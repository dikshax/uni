{
 "cells": [
  {
   "cell_type": "code",
   "execution_count": 4,
   "id": "stylish-edwards",
   "metadata": {},
   "outputs": [
    {
     "data": {
      "text/plain": [
       "False"
      ]
     },
     "execution_count": 4,
     "metadata": {},
     "output_type": "execute_result"
    }
   ],
   "source": [
    "num = 12.1\n",
    "\n",
    "\n",
    "num.is_integer()\n"
   ]
  },
  {
   "cell_type": "code",
   "execution_count": 15,
   "id": "young-prevention",
   "metadata": {},
   "outputs": [
    {
     "name": "stdout",
     "output_type": "stream",
     "text": [
      "[1, 1, 2, 2, 1, 1, 1, 1]\n"
     ]
    }
   ],
   "source": [
    "import string\n",
    "\n",
    "def alfabet(strin):\n",
    "    lst = []\n",
    "    alphabits = string.ascii_lowercase\n",
    "    \n",
    "    \n",
    "    for x in strin:\n",
    "        lst.append(strin.count(x))\n",
    "    print(lst)\n",
    "\n",
    "alfabet('mannsoud')"
   ]
  },
  {
   "cell_type": "code",
   "execution_count": null,
   "id": "blessed-england",
   "metadata": {},
   "outputs": [],
   "source": []
  }
 ],
 "metadata": {
  "kernelspec": {
   "display_name": "Python 3",
   "language": "python",
   "name": "python3"
  },
  "language_info": {
   "codemirror_mode": {
    "name": "ipython",
    "version": 3
   },
   "file_extension": ".py",
   "mimetype": "text/x-python",
   "name": "python",
   "nbconvert_exporter": "python",
   "pygments_lexer": "ipython3",
   "version": "3.9.2"
  }
 },
 "nbformat": 4,
 "nbformat_minor": 5
}
