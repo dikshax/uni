{
 "cells": [
  {
   "cell_type": "markdown",
   "metadata": {},
   "source": [
    "## Python Workshop 5 Exercises"
   ]
  },
  {
   "cell_type": "markdown",
   "metadata": {},
   "source": [
    "<div class=\"alert alert-block alert-info\">Read and examine the text below and then answer the 8 questions that follow. Note: not all of the answers a solution in code</div>"
   ]
  },
  {
   "cell_type": "markdown",
   "metadata": {},
   "source": [
    "#### Boolean Algebra"
   ]
  },
  {
   "cell_type": "markdown",
   "metadata": {},
   "source": [
    "A proposition is a statement that is either true or false.  For example: “Henry likes macaroni,” or “100 is a prime.”  Formal logic deals with the laws of reasoning that apply to propositions.  Logical operations on propositions are not unlike arithmetic operations on numbers.  For example, take the distributive law for multiplication:<br>&emsp;&emsp;&emsp;&emsp;<b><i>a(b + c) = ab + ac</i></b><br>Similarly, we can use the notation of Boolean algebra to express general laws of logic.  For example:<br>&emsp;&emsp;&emsp;&emsp;<b><i>not(A and B) <=> (not A) or (not B)</i></b><br>\n",
    "<b><=></b>  means “P is equivalent to Q” or “P is true if and only if Q is true.”  The above law says, for example: not (rich and famous) is true if and only if (not rich) or (not famous) is true.  Formal logic is not very difficult: most of it is common sense.\n"
   ]
  },
  {
   "cell_type": "markdown",
   "metadata": {},
   "source": [
    "#### Operations on Propositions"
   ]
  },
  {
   "cell_type": "markdown",
   "metadata": {},
   "source": [
    "These propositions (\"and\", \"or\", \"not\") are best illustrated on a <i>truth table</i> which shows the values of logical expression for all possible combinations of values.<br><br>\n",
    "Conjunction (the <b>and</b> operation) can be described by the following table:\n",
    "\n",
    "|P|Q|P <font color=\"red\">and</font> Q|\n",
    "| :-: | :-: | :-: |\n",
    "|T|T|T|\n",
    "|T|F|F|\n",
    "|F|T|F|\n",
    "|F|F|F|\n",
    "\n",
    "<b>The proposition P and Q is true if and only if both P is true and Q is true.</b>"
   ]
  },
  {
   "cell_type": "markdown",
   "metadata": {},
   "source": [
    "Disjunction (the <b>or</b> operation) has the following truth table:\n",
    "\n",
    "|P|Q|P <font color=\"red\">or</font> Q|\n",
    "| :-: | :-: | :-: |\n",
    "|T|T|T|\n",
    "|T|F|T|\n",
    "|F|T|T|\n",
    "|F|F|F|\n",
    "\n",
    "<b>The proposition P or Q is true if and only if at least one of the propositions P, Q is true, that is, P is true or Q is true (or both are true).</b><br>\n",
    "\n",
    "Negation (the <b>not</b> operation) has the following truth table:\n",
    "\n",
    "|P|<font color=\"red\">not</font> P|\n",
    "| :-: | :-: |\n",
    "|T|F|\n",
    "|F|T|\n",
    "\n",
    "<b>The proposition not P is true if and only if P is false.</b>"
   ]
  },
  {
   "cell_type": "markdown",
   "metadata": {},
   "source": [
    "<b>Note:</b> In English, the words “and,” “or,” “not” can be used differently in different contexts.  For example, a statement “Henry likes macaroni and cheese” most likely means that Henry likes macaroni with cheese, not that he likes macaroni and also likes cheese.  In English, “or” is more often used as exclusive or: P or Q, but not both.  For example: “Live free or die” means do one or the other, but not both.  In Boolean algebra the operations and, or, and not have precise meanings, as described above."
   ]
  },
  {
   "cell_type": "markdown",
   "metadata": {},
   "source": [
    "\n",
    "|Clause|Name|\n",
    "| :-: | :- |\n",
    "|not (not P) <=> P|Double negation law|\n",
    "|P or (not P) <=> T|Law of the excluded middle|\n",
    "|P and (not P) <=> F|Law of contradiction|\n",
    "|P and Q <=> Q and P||\n",
    "|P or Q <=> Q or P|Commutative laws|\n",
    "|P and (Q or R) <=> (P and Q) or (P and R)|| \n",
    "|P or (Q and R) <=> (P or Q) and (P or R)|Distributive laws|\n",
    "\n",
    "&emsp;&emsp;&emsp;&emsp;&emsp;&emsp;&emsp;&emsp;&emsp;&emsp;&emsp;&emsp;&emsp;&emsp;&emsp;&emsp;&emsp;&emsp;&emsp;&emsp;<b>Table 1. Some of the laws of formal logic</b><br><br>\n",
    "\n",
    "In addition to logical operators clauses may also be compared using <i>relational operators</i>.  Python has the following relational operators:\n",
    "\n",
    "|Operator|Description|\n",
    "| :-: | :- |\n",
    "|==|equal|\n",
    "|!=|not equal|\n",
    "|<|less than|\n",
    "|<=|less than or equal to|\n",
    "|>|greater than|\n",
    "|>=|greater than or equal to|\n",
    "\n",
    "&emsp;&emsp;&emsp;&emsp;&emsp;&emsp;&emsp;&emsp;&emsp;&emsp;&emsp;&emsp;&emsp;&emsp;&emsp;&emsp;&emsp;&emsp;&emsp;&emsp;<b>Table 2. Relational operators in Python</b>"
   ]
  },
  {
   "cell_type": "markdown",
   "metadata": {},
   "source": [
    "<div class=\"alert alert-block alert-danger\">\n",
    "Now try to write the Python code to answer the following questions in the cells below. <i>You may use Python built-in or library functions that might help but <b>not</b> third-party libraries such as Numpy.</i> </div>"
   ]
  },
  {
   "cell_type": "markdown",
   "metadata": {},
   "source": [
    "#### <font color=\"red\"><b>1.</b></font> In a mad rush to prepare this workbook I forgot to include De Morgan’s laws (which you will need for a later question) in table 1.  So, do your own research to find De Morgan’s laws and write the clause(s) in the cell below."
   ]
  },
  {
   "cell_type": "code",
   "execution_count": null,
   "metadata": {},
   "outputs": [],
   "source": []
  },
  {
   "cell_type": "markdown",
   "metadata": {},
   "source": [
    "#### <font color=\"red\"><b>2.</b></font> Novice programers often write logical forms in English rather than Boolean Algebra such as:\n",
    "<code>\n",
    "today = \"Tuesday\"\n",
    "    \n",
    "if today == \"Saturday\" or \"Sunday\":\n",
    "    print(\"Yeah, it's the Weekend!!!\")\n",
    "</code> \n",
    "<br><b>Rewite the condition of the if-statement using the correct Boolean Algebra form.</b> "
   ]
  },
  {
   "cell_type": "code",
   "execution_count": null,
   "metadata": {},
   "outputs": [],
   "source": []
  },
  {
   "cell_type": "markdown",
   "metadata": {},
   "source": [
    "#### <font color=\"red\"><b>3.</b></font> Write a Python function, (call it <i>positiveEven</i>), with a Boolean expression that prints “n is a positive integer and it is an even number.” when the condition has been met.  <font color=\"blue\">Verify that your code with test values for n.</font> "
   ]
  },
  {
   "cell_type": "code",
   "execution_count": 1,
   "metadata": {},
   "outputs": [],
   "source": []
  },
  {
   "cell_type": "markdown",
   "metadata": {},
   "source": [
    "#### <font color=\"red\"><b>4.</b></font> Simplify the following expression using De Morgan’s laws:\n",
    "<code>\n",
    "    not (x >= -1 and x <= 1)</code>"
   ]
  },
  {
   "cell_type": "code",
   "execution_count": null,
   "metadata": {},
   "outputs": [],
   "source": []
  },
  {
   "cell_type": "markdown",
   "metadata": {},
   "source": [
    "#### <font color=\"red\"><b>5.</b></font> Which of the following expressions are equivalent to  <code>not (a or (not b))</code>?\n",
    "\n",
    "(a)\t<code>(not a) or (not b)</code><br>\n",
    "(b)\t<code>(not a) or b</code><br>\n",
    "(c)\t<code>(not a) and b</code><br>\n"
   ]
  },
  {
   "cell_type": "code",
   "execution_count": null,
   "metadata": {},
   "outputs": [],
   "source": []
  },
  {
   "cell_type": "markdown",
   "metadata": {},
   "source": [
    "#### <font color=\"red\"><b>6.</b></font> Write a logical expression with two variables, P and Q, that has the following truth table:\n",
    "\n",
    "|P|Q|?|\n",
    "| :-: | :-: | :-: |\n",
    "|T|T|F|\n",
    "|T|F|T|\n",
    "|F|T|T|\n",
    "|F|F|F|\n",
    "\n",
    "<b><i>Hint: write the expression as a disjunction of some of the conjunctions P and Q, P and (not Q), (not P) and Q, (not P) and (not Q).</i></b>\n",
    "\n"
   ]
  },
  {
   "cell_type": "code",
   "execution_count": null,
   "metadata": {},
   "outputs": [],
   "source": []
  },
  {
   "cell_type": "markdown",
   "metadata": {},
   "source": [
    "#### <font color=\"red\"><b>7.</b></font> Write a Boolean expression in Python that is true if and only if the string s contains either a '+' or a '-', but not both.  <font color=\"blue\"><i>Hint: you can use the \"in\" (and \"not in\") operators to search your strings</i></font>"
   ]
  },
  {
   "cell_type": "code",
   "execution_count": null,
   "metadata": {},
   "outputs": [],
   "source": []
  },
  {
   "cell_type": "markdown",
   "metadata": {},
   "source": [
    "#### <font color=\"red\"><b>8.</b></font> Write a program that plays Rock-Paper-Scissors with the user and displays the cumulative score.  For example:<code>\n",
    "Rock... Paper... Scissors... Shoot!<br>\n",
    "Make your move (r, p, s) or q (to quit): <b>s</b>\n",
    "\n",
    "I said Rock<br>\n",
    "Ha! You are zapped –– 1:0\n",
    "\n",
    "Rock... Paper... Scissors... Shoot!<br>\n",
    "Make your move (r, p, s) or q (to quit): <b>p</b>\n",
    "\n",
    "I said Paper<br>\n",
    "Paper–aper! Tie –– 1:0\n",
    "\n",
    "Rock... Paper... Scissors... Shoot!<br>\n",
    "Make your move (r, p, s) or q (to quit): <b>q</b>\n",
    "\n",
    "Sorry, you lost! 1:0<br>\n",
    "Thanks for playing.\n",
    "\n",
    "</code>  <b><i>Hints:<br>(1) The call choice(s) returns a randomly chosen character from the string s (or a randomly chosen element from the list or tuple s.).   The function choice is in the module random, so you need</i><code>\n",
    "    from random import choice\n",
    "</code><br><b><i>(2) Recall that input(prompt) prompts the user for input and returns the entered string.</i>"
   ]
  },
  {
   "cell_type": "code",
   "execution_count": null,
   "metadata": {},
   "outputs": [],
   "source": []
  },
  {
   "cell_type": "markdown",
   "metadata": {},
   "source": [
    "### Downloading your workbook"
   ]
  },
  {
   "cell_type": "markdown",
   "metadata": {},
   "source": [
    "Please note even if you are Jupyter on your computer (ie. not on a network) the Jupyter notebook runs as a server, so you are editing and running a file that is not easily accessed on your filing system. So to obtain your workbook (to use on a different computer or upload as an assignment, etc.) it must be downloaded to your file system. To do this..."
   ]
  },
  {
   "cell_type": "markdown",
   "metadata": {},
   "source": [
    "<div class=\"alert alert-block alert-info\">Goto the <b>\"File\"</b> menu and select the <b>\"Download as\"</b> item. You can then select <b>\"notebook (ipynb)\"</b> to download.</div>"
   ]
  }
 ],
 "metadata": {
  "kernelspec": {
   "display_name": "Python 3",
   "language": "python",
   "name": "python3"
  },
  "language_info": {
   "codemirror_mode": {
    "name": "ipython",
    "version": 3
   },
   "file_extension": ".py",
   "mimetype": "text/x-python",
   "name": "python",
   "nbconvert_exporter": "python",
   "pygments_lexer": "ipython3",
   "version": "3.9.2"
  }
 },
 "nbformat": 4,
 "nbformat_minor": 2
}
