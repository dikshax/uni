{
 "cells": [
  {
   "cell_type": "markdown",
   "metadata": {},
   "source": [
    "## Python Assignment Questions"
   ]
  },
  {
   "cell_type": "markdown",
   "metadata": {},
   "source": [
    "<div class=\"alert alert-block alert-info\">Read and examine the text below and then answer the 4 questions that follow. You may use Python built-in or library functions that might help but <b>not</b> third-party libraries such as Numpy.</div>"
   ]
  },
  {
   "cell_type": "markdown",
   "metadata": {},
   "source": [
    "#### <font color=\"red\"><b>1.</b></font> a)\tWrite and test a function that counts and returns the number of bits (binary digits) set to 1 in a positive integer:<code>\n",
    "              def countBits(n):\n",
    "                 'Returns the count of bits set to 1 in a positive integer'\n",
    "                 ... \n",
    "</code><b>For example, countBits(12) should return 2, because 12 = 0...01100.<br>\n",
    "<i>Hints:\n",
    "1.\tCheck the digits from right to left.\n",
    "2.\tn % 2 returns the rightmost (least significant) digit in the binary representation of n.  (a % b is read “a modulo b” and means the remainder when a is divided by b.)\n",
    "3.\tn //= 2 divides n by 2 and truncates the result to an integer, in effect shifting the binary digits to the right by one and getting rid of the least significant digit.</i></b>"
   ]
  },
  {
   "cell_type": "code",
   "execution_count": 2,
   "metadata": {},
   "outputs": [
    {
     "data": {
      "text/plain": [
       "'0b1100'"
      ]
     },
     "execution_count": 2,
     "metadata": {},
     "output_type": "execute_result"
    }
   ],
   "source": []
  },
  {
   "cell_type": "markdown",
   "metadata": {},
   "source": [
    "#### <font color=\"red\"><b>2.</b></font> a)\tLet $ \\bar{x} = (x_{1},x_{2}...x_{n}) $ and $ \\bar{y} = (y_{1},y_{2}...y_{n}) $ be two n dimensional vectors.  Their <i>dot product</i>, denoted   $ \\bar{x}.\\bar{y} $ , is defined as  $ \\bar{x}.\\bar{y} = (x_{1}y_{1} + x_{2}y_{2} + x_{3}y_{3}...x_{n}y_{n})  $ .  Write a Python function (call it <i>dotProduct</i>) that will return the dot product of two given vectors (assume the lists of the same length).."
   ]
  },
  {
   "cell_type": "code",
   "execution_count": null,
   "metadata": {},
   "outputs": [],
   "source": []
  },
  {
   "cell_type": "markdown",
   "metadata": {},
   "source": [
    "#### <font color=\"red\"><b>3a.</b></font> Consider a function:\n",
    "    \n",
    "$ func(n) = \\begin{equation} \\left\\{ \\begin{array} \\text{1,} \\mathrm{if n=1}\\\\ \\text{2.} func(n-1)+1, \\ \\mathrm{if n > 1} \\end{array} \\right. \\end{equation} $\n",
    "\t\n",
    "<br><b>Encode the definition into a recursive Python function.</b>\n"
   ]
  },
  {
   "cell_type": "code",
   "execution_count": 5,
   "metadata": {},
   "outputs": [
    {
     "data": {
      "text/plain": [
       "10"
      ]
     },
     "execution_count": 5,
     "metadata": {},
     "output_type": "execute_result"
    }
   ],
   "source": [
    "def func(num):\n",
    "    if num == 1:\n",
    "        return 1\n",
    "    else:\n",
    "        return 2 * (func(num - 1) + 1)\n",
    "\n",
    "func(3)"
   ]
  },
  {
   "cell_type": "markdown",
   "metadata": {},
   "source": [
    "#### <font color=\"red\"><b>3b.</b></font> Using the function given in part 3a calculate the result of $ func(5) $?"
   ]
  },
  {
   "cell_type": "code",
   "execution_count": 6,
   "metadata": {},
   "outputs": [
    {
     "data": {
      "text/plain": [
       "46"
      ]
     },
     "execution_count": 6,
     "metadata": {},
     "output_type": "execute_result"
    }
   ],
   "source": [
    "func(5)"
   ]
  },
  {
   "cell_type": "markdown",
   "metadata": {},
   "source": [
    "#### <font color=\"red\"><b>4.</b></font> a)\tCredit card numbers have 16 digits.  The checksum is calculated as follows. Each digit in an odd position (first, third, etc.) is multiplied by 2.  If the result is a two-digit number, its two digits are added together; otherwise it is left alone.  The result is added to the sum.  Each digit in an even position (second, fourth, etc.) is added to the sum as is.  The resulting sum must be 0 modulo 10.  For example, 4111111111111111 is a valid credit card number: its checksum is 30.  4111111111111178 is another valid number: its checksum is 40.  Write and test a Python function that checks whether a given string of 16 digits represents a valid credit card number.  Come up with a few other valid numbers and use a few invalid numbers for testing."
   ]
  },
  {
   "cell_type": "code",
   "execution_count": null,
   "metadata": {},
   "outputs": [],
   "source": []
  },
  {
   "cell_type": "markdown",
   "metadata": {},
   "source": [
    "### Downloading your workbook"
   ]
  },
  {
   "cell_type": "markdown",
   "metadata": {},
   "source": [
    "Please note even if you are Jupyter on your computer (ie. not on a network) the Jupyter notebook runs as a server, so you are editing and running a file that is not easily accessed on your filing system. So to obtain your workbook (to use on a different computer or upload as an assignment, etc.) it must be downloaded to your file system. To do this..."
   ]
  },
  {
   "cell_type": "markdown",
   "metadata": {},
   "source": [
    "<div class=\"alert alert-block alert-danger\"> Goto the <b>\"File\"</b> menu and select the <b>\"Download as\"</b> item. You can then select <b>\"notebook (ipynb)\"</b> to download.</div>"
   ]
  }
 ],
 "metadata": {
  "kernelspec": {
   "display_name": "Python 3",
   "language": "python",
   "name": "python3"
  },
  "language_info": {
   "codemirror_mode": {
    "name": "ipython",
    "version": 3
   },
   "file_extension": ".py",
   "mimetype": "text/x-python",
   "name": "python",
   "nbconvert_exporter": "python",
   "pygments_lexer": "ipython3",
   "version": "3.9.4"
  }
 },
 "nbformat": 4,
 "nbformat_minor": 2
}
