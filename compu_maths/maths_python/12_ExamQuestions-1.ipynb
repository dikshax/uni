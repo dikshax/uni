{
 "cells": [
  {
   "cell_type": "markdown",
   "metadata": {},
   "source": [
    "## Python Assignment Questions"
   ]
  },
  {
   "cell_type": "markdown",
   "metadata": {},
   "source": [
    "                Name = Mansoud Mansouri                        Student_ID: 1916829"
   ]
  },
  {
   "cell_type": "markdown",
   "metadata": {},
   "source": [
    "<div class=\"alert alert-block alert-info\">Read and examine the text below and then answer the 4 questions that follow. You may use Python built-in or library functions that might help but <b>not</b> third-party libraries such as Numpy.</div>"
   ]
  },
  {
   "cell_type": "markdown",
   "metadata": {},
   "source": [
    "#### <font color=\"red\"><b>1.</b></font> a)\tWrite and test a function that counts and returns the number of bits (binary digits) set to 1 in a positive integer:<code>\n",
    "              def countBits(n):\n",
    "                 'Returns the count of bits set to 1 in a positive integer'\n",
    "                 ... \n",
    "</code><b>For example, countBits(12) should return 2, because 12 = 0...01100.<br>\n",
    "<i>Hints:\n",
    "1.\tCheck the digits from right to left.\n",
    "2.\tn % 2 returns the rightmost (least significant) digit in the binary representation of n.  (a % b is read “a modulo b” and means the remainder when a is divided by b.)\n",
    "3.\tn //= 2 divides n by 2 and truncates the result to an integer, in effect shifting the binary digits to the right by one and getting rid of the least significant digit.</i></b>"
   ]
  },
  {
   "cell_type": "code",
   "execution_count": 22,
   "metadata": {},
   "outputs": [
    {
     "data": {
      "text/plain": [
       "2"
      ]
     },
     "execution_count": 22,
     "metadata": {},
     "output_type": "execute_result"
    }
   ],
   "source": [
    "def countBits(num):\n",
    "    '''\n",
    "    Given a positive decimal number, returns the number ones present in its binary representation.\n",
    "    \n",
    "    Keyword Argument:\n",
    "        num [int, required]: A positive integer.\n",
    "    \n",
    "    Returns:\n",
    "        only_ones [int]: The number of ones present in num.\n",
    "    '''\n",
    "    try:\n",
    "        if num < 0:\n",
    "            return 'Please try with positive numbers'\n",
    "        else:\n",
    "            binary_digit = bin(num)   # given a decimal number bin() convert it to its binary representation\n",
    "            only_ones = 0\n",
    "        for x in binary_digit:\n",
    "            if x == '1':\n",
    "                only_ones += int(x)\n",
    "        return only_ones\n",
    "    except TypeError as e:\n",
    "        return f'{num} must be an integer.'\n",
    "    except:\n",
    "        return '-1'\n",
    "\n",
    "countBits(12)"
   ]
  },
  {
   "cell_type": "code",
   "execution_count": 23,
   "metadata": {},
   "outputs": [
    {
     "name": "stdout",
     "output_type": "stream",
     "text": [
      "The total sum of ones in 77 in binary is: 4\n",
      "The total sum of ones in 255 in binary is : 8\n",
      "The total sum of ones in 0 in binary is: 0\n"
     ]
    }
   ],
   "source": [
    "# testing countBits()\n",
    "\n",
    "'''\n",
    " 77 in decimal is = 1001101 in binary\n",
    "therefore the sum_of_ones = 4\n",
    "so, expecting the function to return 4\n",
    "'''\n",
    "ones_in_77 = countBits(77)\n",
    "print(f'The total sum of ones in 77 in binary is: {ones_in_77}')\n",
    "\n",
    "'''\n",
    "255 in decimal is equal to 11111111 in binary\n",
    "therefore the sum of all the ones is 8\n",
    "so, expesting the fundtion to retunr 8\n",
    "'''\n",
    "ones_in_255 = countBits(255)\n",
    "print(f'The total sum of ones in 255 in binary is : {ones_in_255}')\n",
    "\n",
    "'''\n",
    "0 in decimal is equal to 0 in binary\n",
    "therefore the sum of all the ones is 0\n",
    "so, expecting the function to return 0\n",
    "'''\n",
    "\n",
    "ones_in_0 = countBits(0)\n",
    "print(f'The total sum of ones in 0 in binary is: {ones_in_0}')\n"
   ]
  },
  {
   "cell_type": "markdown",
   "metadata": {},
   "source": [
    "#### <font color=\"red\"><b>2.</b></font> a)\tLet $ \\bar{x} = (x_{1},x_{2}...x_{n}) $ and $ \\bar{y} = (y_{1},y_{2}...y_{n}) $ be two n dimensional vectors.  Their <i>dot product</i>, denoted   $ \\bar{x}.\\bar{y} $ , is defined as  $ \\bar{x}.\\bar{y} = (x_{1}y_{1} + x_{2}y_{2} + x_{3}y_{3}...x_{n}y_{n})  $ .  Write a Python function (call it <i>dotProduct</i>) that will return the dot product of two given vectors (assume the lists of the same length).."
   ]
  },
  {
   "cell_type": "code",
   "execution_count": 27,
   "metadata": {},
   "outputs": [
    {
     "data": {
      "text/plain": [
       "32"
      ]
     },
     "execution_count": 27,
     "metadata": {},
     "output_type": "execute_result"
    }
   ],
   "source": [
    "def dotProduct(lst1, lst2):\n",
    "    '''\n",
    "    Given two vectors/lists, this function will return their dot product.\n",
    "    \n",
    "    Keyword Arguments:\n",
    "        lst1 [list, required]: The first list.\n",
    "        lst2 [list, required]: The second list.\n",
    "        \n",
    "    Returns:\n",
    "        total [int]: The dot product of lst1 and lst2.\n",
    "    '''\n",
    "    try:\n",
    "        total = 0\n",
    "        if len(lst1) != len(lst2):  # the len() will return the length of a given iterable\n",
    "            return f'{last1} is not the same length as {lst2}'\n",
    "        else:\n",
    "            for i in range(len(lst1)):\n",
    "                total += lst1[i] * lst2[i]\n",
    "        return total\n",
    "    except TypeError as e:\n",
    "        return f'{lst1} and {lst2} must be lists!'\n",
    "    except:\n",
    "        return '-1'\n",
    "\n",
    "one = list(range(1, 4))\n",
    "two = list(range(4, 7))\n",
    "\n",
    "dotProduct(one, two)\n",
    "        \n",
    "        "
   ]
  },
  {
   "cell_type": "markdown",
   "metadata": {},
   "source": [
    "#### <font color=\"red\"><b>3a.</b></font> Consider a function:\n",
    "    \n",
    "$ func(n) = \\begin{equation} \\left\\{ \\begin{array} \\text{1,} \\mathrm{if n=1}\\\\ \\text{2.} func(n-1)+1, \\ \\mathrm{if n > 1} \\end{array} \\right. \\end{equation} $\n",
    "\t\n",
    "<br><b>Encode the definition into a recursive Python function.</b>\n"
   ]
  },
  {
   "cell_type": "code",
   "execution_count": 32,
   "metadata": {},
   "outputs": [
    {
     "data": {
      "text/plain": [
       "7"
      ]
     },
     "execution_count": 32,
     "metadata": {},
     "output_type": "execute_result"
    }
   ],
   "source": [
    "def func(num):\n",
    "    '''\n",
    "    Given a number, this function will work out the result by\n",
    "    apply 2func(n-1) + 1, if num is greater than one. if num is\n",
    "    1, the function will return 1. If num is less than or equal \n",
    "    to 0, the function will display a instruction info.\n",
    "    \n",
    "    Keyword Arguments:\n",
    "        num (required): The integer to apply the function to.\n",
    "        \n",
    "    Returns:\n",
    "        1: if num is one.\n",
    "        2.func(n - 1) + 1: if num is greater than one\n",
    "    '''\n",
    "    \n",
    "    try:\n",
    "        if num <= 0:\n",
    "            return f'The number most be greater than 0, {num} is not'\n",
    "        elif num == 1:\n",
    "            return 1\n",
    "        else:\n",
    "            return 2 * func(num - 1) + 1\n",
    "    except TypeError as e:\n",
    "        return f'{num} must be an integer!'\n",
    "    except:\n",
    "        return '-1'\n",
    "\n",
    "func(3)"
   ]
  },
  {
   "cell_type": "markdown",
   "metadata": {},
   "source": [
    "#### <font color=\"red\"><b>3b.</b></font> Using the function given in part 3a calculate the result of $ func(5) $?"
   ]
  },
  {
   "cell_type": "code",
   "execution_count": 43,
   "metadata": {},
   "outputs": [
    {
     "data": {
      "text/plain": [
       "31"
      ]
     },
     "execution_count": 43,
     "metadata": {},
     "output_type": "execute_result"
    }
   ],
   "source": [
    "func(5)"
   ]
  },
  {
   "cell_type": "markdown",
   "metadata": {},
   "source": [
    "#### <font color=\"red\"><b>4.</b></font> a)\tCredit card numbers have 16 digits.  The checksum is calculated as follows. Each digit in an odd position (first, third, etc.) is multiplied by 2.  If the result is a two-digit number, its two digits are added together; otherwise it is left alone.  The result is added to the sum.  Each digit in an even position (second, fourth, etc.) is added to the sum as is.  The resulting sum must be 0 modulo 10.  For example, 4111111111111111 is a valid credit card number: its checksum is 30.  4111111111111178 is another valid number: its checksum is 40.  Write and test a Python function that checks whether a given string of 16 digits represents a valid credit card number.  Come up with a few other valid numbers and use a few invalid numbers for testing."
   ]
  },
  {
   "cell_type": "code",
   "execution_count": 37,
   "metadata": {},
   "outputs": [
    {
     "name": "stdout",
     "output_type": "stream",
     "text": [
      "the odd sum is: 30\n",
      "the even sum is: 72\n",
      "the total is: 30\n"
     ]
    },
    {
     "data": {
      "text/plain": [
       "'Valid cridit card number'"
      ]
     },
     "execution_count": 37,
     "metadata": {},
     "output_type": "execute_result"
    }
   ],
   "source": [
    "def chech_sum(cridit_card_num):\n",
    "    odd_sum = 0\n",
    "    even_sum = 0\n",
    "    for x in range(1, len(cridit_card_num) + 1, 2):\n",
    "        if (x * 2) >= 10 and (x * 2) <= 99:\n",
    "            double_digits = str(x * 2)\n",
    "            for x in double_digits:\n",
    "                odd_sum += int(x)\n",
    "    for x in range(2, len(cridit_card_num) + 1, 2):\n",
    "        even_sum += x\n",
    "    \n",
    "    print(f'the odd sum is: {odd_sum}')\n",
    "    print(f'the even sum is: {even_sum}')\n",
    "    \n",
    "    total_sum = odd_sum \n",
    "    print(f'the total is: {total_sum}')\n",
    "    if total_sum % 10 == 0:\n",
    "        return 'Valid cridit card number'\n",
    "    else:\n",
    "        return 'Not a valit cridit card number'\n",
    "        \n",
    "one = '2222222222222222'\n",
    "chech_sum(one)"
   ]
  },
  {
   "cell_type": "markdown",
   "metadata": {},
   "source": [
    "### Downloading your workbook"
   ]
  },
  {
   "cell_type": "markdown",
   "metadata": {},
   "source": [
    "Please note even if you are Jupyter on your computer (ie. not on a network) the Jupyter notebook runs as a server, so you are editing and running a file that is not easily accessed on your filing system. So to obtain your workbook (to use on a different computer or upload as an assignment, etc.) it must be downloaded to your file system. To do this..."
   ]
  },
  {
   "cell_type": "markdown",
   "metadata": {},
   "source": [
    "<div class=\"alert alert-block alert-danger\"> Goto the <b>\"File\"</b> menu and select the <b>\"Download as\"</b> item. You can then select <b>\"notebook (ipynb)\"</b> to download.</div>"
   ]
  }
 ],
 "metadata": {
  "kernelspec": {
   "display_name": "Python 3",
   "language": "python",
   "name": "python3"
  },
  "language_info": {
   "codemirror_mode": {
    "name": "ipython",
    "version": 3
   },
   "file_extension": ".py",
   "mimetype": "text/x-python",
   "name": "python",
   "nbconvert_exporter": "python",
   "pygments_lexer": "ipython3",
   "version": "3.9.4"
  }
 },
 "nbformat": 4,
 "nbformat_minor": 2
}
