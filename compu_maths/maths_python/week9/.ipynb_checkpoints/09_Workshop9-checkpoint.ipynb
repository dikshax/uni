{
 "cells": [
  {
   "cell_type": "markdown",
   "metadata": {},
   "source": [
    "## Python Workshop 9 Exercises"
   ]
  },
  {
   "cell_type": "markdown",
   "metadata": {},
   "source": [
    "<div class=\"alert alert-block alert-info\">Read and examine the text below and then answer the 8 questions that follow. Note: not all of the answers require a coded solution</div>"
   ]
  },
  {
   "cell_type": "markdown",
   "metadata": {},
   "source": [
    "### Introduction to cryptology"
   ]
  },
  {
   "cell_type": "markdown",
   "metadata": {},
   "source": [
    "Cryptology is a science of making and analyzing ciphers.  In a simple case, if Alice and Bob want to send each other encrypted messages, all they have to do is agree on which encryption method they are going to use.  (“Alice” and “Bob” are often used in cryptology literature to explain secure communications between two people or organizations.  There is a third character, eavesdropper “Eve,” who monitors all exchanges between Alice and Bob.  Eve will try to guess which method Alice and Bob are using.)"
   ]
  },
  {
   "cell_type": "markdown",
   "metadata": {},
   "source": [
    "### Example 1"
   ]
  },
  {
   "cell_type": "markdown",
   "metadata": {},
   "source": [
    "In a simple substitution cipher, a secret key tells which letter should replace ‘A’, ‘B’, ..., ‘Z’.  For example:\n",
    "\n",
    "\tLetter to encrypt:\tABCDEFGHIJKLMNOPQRSTUVWXYZ\n",
    "\tKey:\tQEKUOYMBJXRCDZNVTGFASHWPLI\n",
    "\n",
    "“On time” is encrypted as “Nz ajdo.”  This cipher is easy to break by comparing the frequencies of occurrence of different letters in the plain text and encoded text and by guessing about the common short words (articles, prepositions, etc.)."
   ]
  },
  {
   "cell_type": "markdown",
   "metadata": {},
   "source": [
    "To address this problem, cryptographers, over the years have, developed more robust cyphers such as the Vigenère cipher (https://en.wikipedia.org/wiki/Vigen%C3%A8re_cipher) but eventually even these were defeated.  Current cryptography standard (used in commerce, banking and security) rely on public key algorithms such as RSA."
   ]
  },
  {
   "cell_type": "markdown",
   "metadata": {},
   "source": [
    "#### The RSA Algorithm"
   ]
  },
  {
   "cell_type": "markdown",
   "metadata": {},
   "source": [
    "The name of the RSA algorithm is formed by the first letters Ron Rivest, Adi Shamir, and Leonard Adleman at MIT, who invented the algorithm in 1977.  The RSA algorithm is now widely used for secure communications and e-commerce on the Internet.<br>\n",
    "\n",
    "The main idea of the RSA scheme is simple.  Suppose Alice wants to send a secret message to Bob.  Alice asks Bob to send her an open padlock to which only Bob has a key.  (Bob, like every other member of the community, has an unlimited supply of such locks and sends them out for free on request.)  When Alice receives the lock, she puts her message in a box, puts the lock on it, clicks it locked, and sends the box to Bob."
   ]
  },
  {
   "cell_type": "markdown",
   "metadata": {},
   "source": [
    "<div class=\"alert alert-block alert-danger\">\n",
    "Now try to write the Python code to answer the following questions in the cells below. <i>You may use Python built-in or library functions that might help but <b>not</b> third-party libraries such as Numpy.</i> </div>"
   ]
  },
  {
   "cell_type": "markdown",
   "metadata": {},
   "source": [
    "#### <font color=\"red\"><b>1.</b></font> Write and test a function letterCounts(text) that calculates how many times each letter of the alphabet occurs in text and returns a list of these 26 counts. For example, letterCounts('the fat cat') should return [2,0,1,0,1,0,0,1,0,0,0,0,0,1,0,0,0,0,0,3,0,0,0,0,0,0]."
   ]
  },
  {
   "cell_type": "code",
   "execution_count": null,
   "metadata": {},
   "outputs": [],
   "source": []
  },
  {
   "cell_type": "markdown",
   "metadata": {},
   "source": [
    "#### <font color=\"red\"><b>2.</b></font> Write and test two functions, encode(text, key) and decode(code, key), that implement a substitution cipher with a key.  text, code, and key are strings, and each of the functions returns a string."
   ]
  },
  {
   "cell_type": "code",
   "execution_count": null,
   "metadata": {},
   "outputs": [],
   "source": []
  },
  {
   "cell_type": "markdown",
   "metadata": {},
   "source": [
    "#### <font color=\"red\"><b>3.</b></font> Research the working of the Vigenere cipher algorithm on the Internet.  From that implement an encode(text, key) and decode(code, key) function for the Vigenere cipher.  Test your encription and decription functions using any favourite quote of your choice."
   ]
  },
  {
   "cell_type": "code",
   "execution_count": null,
   "metadata": {},
   "outputs": [],
   "source": []
  },
  {
   "cell_type": "markdown",
   "metadata": {},
   "source": [
    "#### <font color=\"red\"><b>4.</b></font> Write and test a function getDigits(s) that returns a string of all digits found in s (in the same order).  For example, getDigits('**1.23a-42') should return '12342'."
   ]
  },
  {
   "cell_type": "code",
   "execution_count": null,
   "metadata": {},
   "outputs": [],
   "source": []
  },
  {
   "cell_type": "markdown",
   "metadata": {},
   "source": [
    "#### <font color=\"red\"><b>5.</b></font> Recall that a valid name in Python can have letters, digits, and underscore characters and cannot start with a digit.  Write a function isValidName(s) that returns True if s represents a valid name in Python; otherwise your function should return False.  Test your function on the following strings:\n",
    "\n",
    "|<font color=\"blue\">Valid|<font color=\"red\">Invalid|\n",
    "| :-: | :-: |\n",
    "|'bDay'|'1a'|\n",
    "|'A0'|'#A'|\n",
    "|'_a_1'|'1_a'|\n",
    "|'_1amt'|'[a]'|\n",
    "|'__'|' ABC'|\n",
    "|'_'|''|\n",
    "| |'A#'|\n",
    "| |'A-2'|\n",
    "| |'a 5+'|\n"
   ]
  },
  {
   "cell_type": "code",
   "execution_count": null,
   "metadata": {},
   "outputs": [],
   "source": []
  },
  {
   "cell_type": "markdown",
   "metadata": {},
   "source": [
    "#### <font color=\"red\"><b>6.</b></font> Write a new function <i>getDigitsR(s)</i> in answer to question 4, but this time as recursive function.  For example, getDigitsR('+2.93x**4.2') should return '29342'."
   ]
  },
  {
   "cell_type": "code",
   "execution_count": null,
   "metadata": {},
   "outputs": [],
   "source": []
  },
  {
   "cell_type": "markdown",
   "metadata": {},
   "source": [
    "### Downloading your workbook"
   ]
  },
  {
   "cell_type": "markdown",
   "metadata": {},
   "source": [
    "Please note even if you are Jupyter on your computer (ie. not on a network) the Jupyter notebook runs as a server, so you are editing and running a file that is not easily accessed on your filing system. So to obtain your workbook (to use on a different computer or upload as an assignment, etc.) it must be downloaded to your file system. To do this..."
   ]
  },
  {
   "cell_type": "markdown",
   "metadata": {},
   "source": [
    "<div class=\"alert alert-block alert-info\">Goto the <b>\"File\"</b> menu and select the <b>\"Download as\"</b> item. You can then select <b>\"notebook (ipynb)\"</b> to download.</div>"
   ]
  }
 ],
 "metadata": {
  "kernelspec": {
   "display_name": "Python 3",
   "language": "python",
   "name": "python3"
  },
  "language_info": {
   "codemirror_mode": {
    "name": "ipython",
    "version": 3
   },
   "file_extension": ".py",
   "mimetype": "text/x-python",
   "name": "python",
   "nbconvert_exporter": "python",
   "pygments_lexer": "ipython3",
   "version": "3.9.2"
  }
 },
 "nbformat": 4,
 "nbformat_minor": 2
}
