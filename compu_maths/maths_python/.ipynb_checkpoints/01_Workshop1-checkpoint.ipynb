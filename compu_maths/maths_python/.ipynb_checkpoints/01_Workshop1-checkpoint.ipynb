{
 "cells": [
  {
   "cell_type": "markdown",
   "metadata": {},
   "source": [
    "## Python Workshop 1 Exercises"
   ]
  },
  {
   "cell_type": "markdown",
   "metadata": {},
   "source": [
    "<div class=\"alert alert-block alert-info\">\n",
    "<font color=\"black\">Suppose we don’t know the formula for the sum and want to use a “brute force” approach.  We can calculate the sum <i>1 + 2 + ... + n</i>  using a loop:</font> </div>"
   ]
  },
  {
   "cell_type": "markdown",
   "metadata": {},
   "source": [
    "<code>sum1n = 0\n",
    "i = 1\n",
    "while i <= n:\n",
    "    sum1n += i  # same as sum1n = sum1n + i\n",
    "    i += 1 </code>"
   ]
  },
  {
   "cell_type": "code",
   "execution_count": 10,
   "metadata": {},
   "outputs": [
    {
     "name": "stdout",
     "output_type": "stream",
     "text": [
      "15\n"
     ]
    }
   ],
   "source": [
    "sum1 = 0\n",
    "i = 1\n",
    "while i <= 5:\n",
    "    sum1 += i\n",
    "    i += 1\n",
    "print(sum1)"
   ]
  },
  {
   "cell_type": "markdown",
   "metadata": {},
   "source": [
    "sum1 = 0 is the total sum of the number at the end.\n",
    "i = 1 is the while loop control.\n",
    "given a number for (n),\n",
    "    this while loop will start from one and add to it the next number till it hits/meats the condition of the while loop.\n",
    "    increamenting the i for each loop makes sure its not a infinite loop.\n",
    "    at the end of the loop we output the sum1, which will be the sum of one to the n."
   ]
  },
  {
   "cell_type": "markdown",
   "metadata": {},
   "source": [
    "<div class=\"alert alert-block alert-info\"><font color=\"black\">This loop can also be nested within another loop to calculate a series of numbers:</font></div>"
   ]
  },
  {
   "cell_type": "markdown",
   "metadata": {},
   "source": [
    "<code>## Sums1toN program\n",
    "nMax = 10\n",
    "n = 1\n",
    "while n <= nMax:\n",
    "    sum1n = 0\n",
    "    i = 1\n",
    "    while i <= n:\n",
    "        sum1n += i\n",
    "        i += 1\n",
    "    print('{0:3d} {1:6d}'.format(n, sum1n))\n",
    "    n += 1 </code>"
   ]
  },
  {
   "cell_type": "markdown",
   "metadata": {},
   "source": [
    "<div class=\"alert alert-block alert-info\"><font color=\"black\">Type in the little program above into the cell below.  To run it select the cell and then press the <b>run-button</b> from the button bar above. Test the program and ensure it runs correctly.</font></div>"
   ]
  },
  {
   "cell_type": "code",
   "execution_count": 11,
   "metadata": {},
   "outputs": [
    {
     "name": "stdout",
     "output_type": "stream",
     "text": [
      "2 1\n",
      "3 3\n"
     ]
    }
   ],
   "source": [
    "nMax = 2\n",
    "n = 1\n",
    "while n <= nMax:\n",
    "    sum1n = 0\n",
    "    i = 1\n",
    "    while i <= n:\n",
    "        sum1n += i\n",
    "        i += 1\n",
    "    print(f'{i} {sum1n}')\n",
    "    n += 1"
   ]
  },
  {
   "cell_type": "markdown",
   "metadata": {},
   "source": [
    "<div class=\"alert alert-block alert-danger\">\n",
    "Now try to write the Python code to answer the following questions in the cells below \n",
    "</div>"
   ]
  },
  {
   "cell_type": "markdown",
   "metadata": {},
   "source": [
    "#### <font color=\"red\"><b>1.</b></font> Modify the Sums1toN.py program to accept only an odd positive integer nMax from the user and print the sums of positive odd integers for *n = 1, 3, ..., nMax.*"
   ]
  },
  {
   "cell_type": "code",
   "execution_count": 21,
   "metadata": {},
   "outputs": [
    {
     "name": "stdout",
     "output_type": "stream",
     "text": [
      "Please eneter a odd number: 22\n",
      "Dude!! 22 is not a odd number!\n",
      "Odd numbers got remainder when divided by 2. And 22 / 2 = 11.0\n"
     ]
    }
   ],
   "source": [
    "nMax = int(input('Please eneter a odd number: '))\n",
    "sum1n = 0\n",
    "i = 1\n",
    "if nMax % 2 == 0:\n",
    "    print(f'Dude!! {nMax} is not a odd number!')\n",
    "    print(f'Odd numbers got remainder when divided by 2. And {nMax} / 2 = {nMax /2}')\n",
    "else:\n",
    "    while i <= nMax:\n",
    "        sum1n += i\n",
    "        i += 2\n",
    "    print(sum1n)\n",
    "    "
   ]
  },
  {
   "cell_type": "markdown",
   "metadata": {},
   "source": [
    "### <font color=\"red\"><b>2.</b></font> Write a program that prompts the user for a positive integer n and prints all positive multiples of 6 *ie. (6, 12, 18, etc.)* that do not exceed n."
   ]
  },
  {
   "cell_type": "code",
   "execution_count": 15,
   "metadata": {},
   "outputs": [
    {
     "name": "stdout",
     "output_type": "stream",
     "text": [
      "Please enter a positive integer: 12\n",
      "1 * 6 = 6\n",
      "2 * 6 = 12\n",
      "3 * 6 = 18\n",
      "4 * 6 = 24\n",
      "5 * 6 = 30\n",
      "6 * 6 = 36\n",
      "7 * 6 = 42\n",
      "8 * 6 = 48\n",
      "9 * 6 = 54\n",
      "10 * 6 = 60\n",
      "11 * 6 = 66\n",
      "12 * 6 = 72\n"
     ]
    }
   ],
   "source": [
    "num = int(input('Please enter a positive integer: '))\n",
    "i = 1\n",
    "while i <= num:\n",
    "    result = i * 6\n",
    "    print(f'{i} * 6 = {result}')\n",
    "    i += 1\n",
    "    "
   ]
  },
  {
   "cell_type": "markdown",
   "metadata": {},
   "source": [
    "#### <font color=\"red\"><b>3.</b></font> Using Sums1toN.py as a prototype, write a program that prompts the user to enter a positive integer nMax and displays n and n! (n-factorial) for n from 1 to nMax.   .  "
   ]
  },
  {
   "cell_type": "code",
   "execution_count": 27,
   "metadata": {},
   "outputs": [
    {
     "name": "stdout",
     "output_type": "stream",
     "text": [
      "Please enter a positive integer: 5\n",
      "1 * 5 = 1\n",
      "2 * 5 = 4\n",
      "3 * 5 = 18\n",
      "4 * 5 = 96\n",
      "5 * 5 = 600\n",
      "this is the total: 120\n"
     ]
    }
   ],
   "source": [
    "nMax = int(input('Please enter a positive integer: '))\n",
    "n_factorial = 1\n",
    "i = 1\n",
    "if nMax < 0:\n",
    "    print(f'Dude that is not positive number: {nMax}')\n",
    "    print('Try again maybe!!')\n",
    "else:\n",
    "    for z in range(1, nMax + 1):\n",
    "        n_factorial *= z\n",
    "        print(f'{n_factorial}')\n",
    "    print(f'this is the total: {n_factorial}')\n",
    "        \n",
    "    "
   ]
  },
  {
   "cell_type": "markdown",
   "metadata": {},
   "source": [
    "<div class=\"alert alert-block alert-danger\"><b>Note:</b> most of the programs for this module do not require you to use the <i>input</i> statement to load data into your code. To avoid loosing marks (for over use of the input statement) You should only use input statements where the question includes the phrases like <font color=\"red\"><i>\"prompts the user..\"</i></font>, <font color=\"red\"><i>\"from the user..\"</i></font> or <font color=\"red\"><i>\"ask the user..\"</i></font>. <b>ie. for questions 4,5 & 6 hard code the data in the program</b></div>"
   ]
  },
  {
   "cell_type": "markdown",
   "metadata": {},
   "source": [
    "#### <font color=\"red\"><b>4.</b></font> Write a program that prints n, $ s_{1}(n)=\\sum \\limits _{k=1} ^{n} k $ , $ s_{2}(n)=\\sum \\limits _{k=1} ^{n} k ^{2} $ , and  $ \\frac{3s_{2}(n)}{s_{1}(n)} $ for n = 1, 2, 3, ..., 20.  Try to guess the general formula for  $ \\sum \\limits _{k=1} ^{n} k ^{2} $ from the resulting table."
   ]
  },
  {
   "cell_type": "code",
   "execution_count": null,
   "metadata": {},
   "outputs": [],
   "source": []
  },
  {
   "cell_type": "markdown",
   "metadata": {},
   "source": [
    "#### <font color=\"red\"><b>5.</b></font> Write a function printSquare(n) that displays a “square” whose side has n stars.  For example, for n = 5, the output should be: "
   ]
  },
  {
   "cell_type": "markdown",
   "metadata": {},
   "source": [
    "`*****`<br>\n",
    "`*   *`<br>\n",
    "`*   *`<br>\n",
    "`*   *`<br>\n",
    "`*****`<br>"
   ]
  },
  {
   "cell_type": "markdown",
   "metadata": {},
   "source": [
    "##### Use only one while loop.  (Actually, in Python, you can write this function without any loops, on one line.  Can you figure out how?) "
   ]
  },
  {
   "cell_type": "code",
   "execution_count": null,
   "metadata": {},
   "outputs": [],
   "source": []
  },
  {
   "cell_type": "markdown",
   "metadata": {},
   "source": [
    "#### <font color=\"red\"><b>6.</b></font> Write a function <i>myPow(x, n)</i> that returns $x ^{n}$, where   and n is a non-negative integer.  Do not use the ** operator or the math.pow function — use one <i>while</i> loop.  Hint:  $ x ^{0} = 1 $.  "
   ]
  },
  {
   "cell_type": "code",
   "execution_count": null,
   "metadata": {},
   "outputs": [],
   "source": []
  },
  {
   "cell_type": "markdown",
   "metadata": {},
   "source": [
    "### Downloading your workbook"
   ]
  },
  {
   "cell_type": "markdown",
   "metadata": {},
   "source": [
    "Please note even if you are Jupyter on your computer (ie. not on a network) the Jupyter notebook runs as a server, so you are not running and editing a file on your filing system. So to obtain your workbook (to use on a different computer or upload as an assignment, etc.) it must be downloaded to your file system. To do this...  "
   ]
  },
  {
   "cell_type": "markdown",
   "metadata": {},
   "source": [
    "<div class=\"alert alert-block alert-info\">Goto the <b>\"File\"</b> menu and select the <b>\"Download as\"</b> item. You can then select <b>\"notebook (ipynb)\"</b> to download.</div>"
   ]
  }
 ],
 "metadata": {
  "kernelspec": {
   "display_name": "Python 3",
   "language": "python",
   "name": "python3"
  },
  "language_info": {
   "codemirror_mode": {
    "name": "ipython",
    "version": 3
   },
   "file_extension": ".py",
   "mimetype": "text/x-python",
   "name": "python",
   "nbconvert_exporter": "python",
   "pygments_lexer": "ipython3",
   "version": "3.9.1"
  }
 },
 "nbformat": 4,
 "nbformat_minor": 2
}
