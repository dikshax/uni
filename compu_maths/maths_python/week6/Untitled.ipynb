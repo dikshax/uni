{
 "cells": [
  {
   "cell_type": "code",
   "execution_count": 2,
   "id": "academic-visibility",
   "metadata": {},
   "outputs": [
    {
     "name": "stdout",
     "output_type": "stream",
     "text": [
      "10\n"
     ]
    }
   ],
   "source": [
    "marsh_tit = [x for x in range(1, 11)]\n",
    "def list_len(lst):\n",
    "    count = 0\n",
    "    for i in lst:\n",
    "        count +=1\n",
    "    print(count)\n",
    "    \n",
    "list_len(marsh_tit)"
   ]
  },
  {
   "cell_type": "code",
   "execution_count": 17,
   "id": "dried-decade",
   "metadata": {},
   "outputs": [
    {
     "name": "stdout",
     "output_type": "stream",
     "text": [
      "2\n"
     ]
    }
   ],
   "source": [
    "def power_recursion(x, n):\n",
    "    if n == 0:\n",
    "        return 1\n",
    "    else:\n",
    "        return (x * power_recursion(x, (n-1)))\n",
    "villow_tit = power_recursion(2, 1)\n",
    "print(villow_tit)\n",
    "    "
   ]
  },
  {
   "cell_type": "code",
   "execution_count": 24,
   "id": "fitted-permit",
   "metadata": {},
   "outputs": [
    {
     "name": "stdout",
     "output_type": "stream",
     "text": [
      "120\n"
     ]
    }
   ],
   "source": [
    "def ithink_double(n):\n",
    "    if n == 1:\n",
    "        return 1\n",
    "    else:\n",
    "        return (n*ithink_double(n-1))\n",
    "marsh_tit = ithink_double(5)\n",
    "print(marsh_tit)"
   ]
  },
  {
   "cell_type": "code",
   "execution_count": 30,
   "id": "sufficient-banks",
   "metadata": {},
   "outputs": [
    {
     "name": "stdout",
     "output_type": "stream",
     "text": [
      "100\n"
     ]
    }
   ],
   "source": [
    "# Write a recursive function that raises a value n to the tenth power for a non-negative def \n",
    "# integer.\n",
    "\n",
    "def rais_up(n):\n",
    "    if n == 0:\n",
    "        return 1\n",
    "    else:\n",
    "        return rais_up(n-1) * 10\n",
    "\n",
    "villow_tit = rais_up(2)\n",
    "print(villow_tit)\n"
   ]
  },
  {
   "cell_type": "code",
   "execution_count": null,
   "id": "processed-cleaner",
   "metadata": {},
   "outputs": [],
   "source": []
  }
 ],
 "metadata": {
  "kernelspec": {
   "display_name": "Python 3",
   "language": "python",
   "name": "python3"
  },
  "language_info": {
   "codemirror_mode": {
    "name": "ipython",
    "version": 3
   },
   "file_extension": ".py",
   "mimetype": "text/x-python",
   "name": "python",
   "nbconvert_exporter": "python",
   "pygments_lexer": "ipython3",
   "version": "3.9.2"
  }
 },
 "nbformat": 4,
 "nbformat_minor": 5
}
