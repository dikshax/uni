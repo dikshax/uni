{
 "cells": [
  {
   "cell_type": "code",
   "execution_count": 2,
   "id": "regional-character",
   "metadata": {},
   "outputs": [
    {
     "name": "stdout",
     "output_type": "stream",
     "text": [
      "Delivering present to: Eric's house\n",
      "Delivering present to: Kenny's house\n",
      "Delivering present to: Kyle's house\n",
      "Delivering present to: Stan's house\n"
     ]
    }
   ],
   "source": [
    "houses = [\"Eric's house\", \"Kenny's house\", \"Kyle's house\", \"Stan's house\"]\n",
    "\n",
    "# write a iterative function for Santa to deliver present to houses in the list houses\n",
    "\n",
    "def fake_santa(lst):\n",
    "    for house in lst:\n",
    "        print(F'Delivering present to: {house}')\n",
    "\n",
    "greenfinch = fake_santa(houses)\n"
   ]
  },
  {
   "cell_type": "code",
   "execution_count": 5,
   "id": "weighted-malawi",
   "metadata": {},
   "outputs": [
    {
     "name": "stdout",
     "output_type": "stream",
     "text": [
      "Delivering present to: Eric's house\n",
      "Delivering present to: Kenny's house\n",
      "Delivering present to: Kyle's house\n",
      "Delivering present to: Stan's house\n"
     ]
    }
   ],
   "source": [
    "# delivering present recursively\n",
    "\n",
    "def fake_santa_recursive(lst):\n",
    "    if len(lst) == 1:\n",
    "        house = lst[0]\n",
    "        print(f'Delivering present to: {house}')\n",
    "    else:\n",
    "        middle = len(lst) // 2\n",
    "        first_half = lst[:middle]\n",
    "        second_half = lst[middle:]\n",
    "        fake_santa_recursive(first_half)\n",
    "        fake_santa_recursive(second_half)\n",
    "\n",
    "fake_santa_recursive(houses)"
   ]
  },
  {
   "cell_type": "code",
   "execution_count": 10,
   "id": "bibliographic-mitchell",
   "metadata": {},
   "outputs": [
    {
     "name": "stdout",
     "output_type": "stream",
     "text": [
      "120\n"
     ]
    }
   ],
   "source": [
    "# working n! recursively\n",
    "\n",
    "def factorial(n):\n",
    "    # base case 1! = 1\n",
    "    if n == 1:\n",
    "        return 1\n",
    "    # recursive case n! = n * (n-1)!\n",
    "    else:\n",
    "        return n * factorial(n-1)\n",
    "chaffinch = factorial(5)\n",
    "print(chaffinch)"
   ]
  },
  {
   "cell_type": "code",
   "execution_count": 20,
   "id": "instructional-restaurant",
   "metadata": {},
   "outputs": [
    {
     "name": "stdout",
     "output_type": "stream",
     "text": [
      "55\n"
     ]
    }
   ],
   "source": [
    "# summing the all the number from one to ten using recursive function\n",
    "def sum_recursive(n, total):\n",
    "    if n <= 0 or n > 11:\n",
    "        return f'{n} is not in the rage of 1-10'\n",
    "    elif n == 11:\n",
    "        return total\n",
    "    else:\n",
    "        return sum_recursive(n + 1, total + n)\n",
    "\n",
    "villowfinch = sum_recursive(1, 0)\n",
    "print(villowfinch)\n",
    "        "
   ]
  },
  {
   "cell_type": "code",
   "execution_count": 26,
   "id": "higher-testament",
   "metadata": {},
   "outputs": [
    {
     "name": "stdout",
     "output_type": "stream",
     "text": [
      "55\n"
     ]
    }
   ],
   "source": [
    "# summing the all the number from one to ten using recursive function\n",
    "def sum_recursive(n, total):\n",
    "    if n < 0 or n >= 11:\n",
    "        return f'{n} is not in the rage of 1-10'\n",
    "    elif n == 0:\n",
    "        return total\n",
    "    else:\n",
    "        return sum_recursive(n - 1, total + n)\n",
    "\n",
    "villowfinch = sum_recursive(10, 0)\n",
    "print(villowfinch)"
   ]
  },
  {
   "cell_type": "code",
   "execution_count": 30,
   "id": "former-retro",
   "metadata": {},
   "outputs": [
    {
     "name": "stdout",
     "output_type": "stream",
     "text": [
      "6\n"
     ]
    }
   ],
   "source": [
    "# given a list of integers, sum all the elements by using recursioin\n",
    "\n",
    "def list_sum_recursion(lst):\n",
    "    # base case [] \n",
    "    if lst == []:\n",
    "        return 0\n",
    "    else:\n",
    "        return lst[0] + list_sum_recursion(lst[1:])\n",
    "one = list_sum_recursion([x for x in range(1, 4)])\n",
    "print(one)"
   ]
  },
  {
   "cell_type": "code",
   "execution_count": 33,
   "id": "modified-tolerance",
   "metadata": {},
   "outputs": [
    {
     "name": "stdout",
     "output_type": "stream",
     "text": [
      "6\n"
     ]
    }
   ],
   "source": [
    "def sum_list(lst):\n",
    "    if lst == []:\n",
    "        return 0\n",
    "    else:\n",
    "        return lst[0] + sum_list(lst[1:])\n",
    "one = sum_list([x for x in range(1,4)])\n",
    "print(one)"
   ]
  },
  {
   "cell_type": "code",
   "execution_count": null,
   "id": "suspended-merchant",
   "metadata": {},
   "outputs": [],
   "source": []
  }
 ],
 "metadata": {
  "kernelspec": {
   "display_name": "Python 3",
   "language": "python",
   "name": "python3"
  },
  "language_info": {
   "codemirror_mode": {
    "name": "ipython",
    "version": 3
   },
   "file_extension": ".py",
   "mimetype": "text/x-python",
   "name": "python",
   "nbconvert_exporter": "python",
   "pygments_lexer": "ipython3",
   "version": "3.9.2"
  }
 },
 "nbformat": 4,
 "nbformat_minor": 5
}
