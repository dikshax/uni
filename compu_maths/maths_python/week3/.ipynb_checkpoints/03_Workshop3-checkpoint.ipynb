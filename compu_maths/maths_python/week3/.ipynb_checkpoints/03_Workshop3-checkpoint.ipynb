{
 "cells": [
  {
   "cell_type": "markdown",
   "metadata": {},
   "source": [
    "## Python Workshop 3 Exercises"
   ]
  },
  {
   "cell_type": "code",
   "execution_count": 1,
   "metadata": {},
   "outputs": [
    {
     "name": "stdout",
     "output_type": "stream",
     "text": [
      " the index is: 0 and the number is: 9\n",
      " the index is: 1 and the number is: 8\n",
      " the index is: 2 and the number is: 7\n",
      " the index is: 3 and the number is: 6\n",
      " the index is: 4 and the number is: 5\n",
      " the index is: 5 and the number is: 4\n",
      " the index is: 6 and the number is: 3\n",
      " the index is: 7 and the number is: 2\n",
      " the index is: 8 and the number is: 1\n"
     ]
    }
   ],
   "source": [
    "nums = [9, 8 , 7, 6, 5, 4, 3, 2, 1]\n",
    "\n",
    "for x in range(0, len(nums)):\n",
    "    print(f' the index is: {x} and the number is: {nums[x]}')"
   ]
  },
  {
   "cell_type": "markdown",
   "metadata": {},
   "source": [
    "<div class=\"alert alert-block alert-info\">Examine and test the example code below, then design and write your code to answer the 7 questions that follow.</div>"
   ]
  },
  {
   "cell_type": "markdown",
   "metadata": {},
   "source": [
    "#### Lists and indexing in Python"
   ]
  },
  {
   "cell_type": "markdown",
   "metadata": {},
   "source": [
    "Consider a list of numbers:  nums = [90, 80, 70, 60, 50, 40, 30, 20, 10]\n",
    "    \n",
    "|90|80|70|60|50|40|30|20|10|\n",
    "| :-: | :-: | :-: | :-: | :-: | :-: | :-: | :-: | :-: |\n",
    "|<font color=\"blue\">0|<font color=\"blue\">1|<font color=\"blue\">2|<font color=\"blue\">3|<font color=\"blue\">4|<font color=\"blue\">5|<font color=\"blue\">6|<font color=\"blue\">7|<font color=\"blue\">8|\n",
    "|<font color=\"red\">-9|<font color=\"red\">-8|<font color=\"red\">-7|<font color=\"red\">-6|<font color=\"red\">-5|<font color=\"red\">-4|<font color=\"red\">-3|<font color=\"red\">-2|<font color=\"red\">-1|\n",
    "\n",
    "Each character in the list has a notional position called <font color=\"blue\">the index</font>,  \n",
    "to access one of the elements, the name of the list with the index (in square brackets) must be provided E.g:<br>\n",
    "<code>print(nums[<font color=\"blue\">2</font>])    # <font color=\"blue\">index from the front => 70</font></code><br>\n",
    "In Python lists may also be <font color=\"red\">indexed from the back</font> by using a negative number for the index so<br>\n",
    "<code>print(nums[<font color=\"red\">-2</font>])   # <font color=\"red\">index from the back => 20</font></code><br>   \n",
    "\n",
    "Of course where you use a number in a program, you can replace with a variable to produce interesting results  "
   ]
  },
  {
   "cell_type": "markdown",
   "metadata": {},
   "source": [
    "#### Example 1"
   ]
  },
  {
   "cell_type": "markdown",
   "metadata": {},
   "source": [
    "Write a Python function that returns the sum of two given vectors (represented as lists of the same length)."
   ]
  },
  {
   "cell_type": "markdown",
   "metadata": {},
   "source": [
    "#### Solution"
   ]
  },
  {
   "cell_type": "markdown",
   "metadata": {},
   "source": [
    "<code>def sumVectors(x, y):\n",
    "    vect = len(x)*[0]  # create a list of the same length as x, filled with 0s\n",
    "    i = 0\n",
    "    while i < len(x):\n",
    "        vect[i] = x[i] + y[i]\n",
    "        i += 1\n",
    "    return vect</code>"
   ]
  },
  {
   "cell_type": "code",
   "execution_count": null,
   "metadata": {},
   "outputs": [],
   "source": []
  },
  {
   "cell_type": "code",
   "execution_count": 4,
   "metadata": {},
   "outputs": [
    {
     "name": "stdout",
     "output_type": "stream",
     "text": [
      "[2, 4, 6, 8, 10]\n"
     ]
    }
   ],
   "source": [
    "uno = [x for x in range(1, 6)]\n",
    "dues = [x for x in range(1, 6)]\n",
    "\n",
    "def one(x, y):\n",
    "    lst = len(x) * [0]\n",
    "    i = 0 \n",
    "    while i < len(x):\n",
    "        lst[i] = x[i] + y[i]\n",
    "        i += 1\n",
    "    print(lst)\n",
    "    \n",
    "one(uno, dues)\n",
    "\n"
   ]
  },
  {
   "cell_type": "markdown",
   "metadata": {},
   "source": [
    "Note that we have to create a vector of the required length before we can store the resulting values in it.  Try a call such as sumVectors([1,2,3],[6,5,4]) to test the working of the function."
   ]
  },
  {
   "cell_type": "code",
   "execution_count": 5,
   "metadata": {},
   "outputs": [
    {
     "name": "stdout",
     "output_type": "stream",
     "text": [
      "[7, 7, 7]\n",
      "3\n"
     ]
    }
   ],
   "source": [
    "first_lst = [1,2,3]\n",
    "second_lst = [6,5,4]\n",
    "\n",
    "def testing(x, y):\n",
    "    resulting_lst = len(x) * [0]\n",
    "    i = 0\n",
    "    while i < len(x):\n",
    "        resulting_lst[i] = x[i] + y[i]\n",
    "        i += 1\n",
    "    return resulting_lst\n",
    "\n",
    "one = testing(first_lst, second_lst)\n",
    "print(one)\n"
   ]
  },
  {
   "cell_type": "markdown",
   "metadata": {},
   "source": [
    "#### Example 2"
   ]
  },
  {
   "cell_type": "markdown",
   "metadata": {},
   "source": [
    "Write a Python function that creates and returns a table with a given numbers of rows and columns, filled with None values."
   ]
  },
  {
   "cell_type": "markdown",
   "metadata": {},
   "source": [
    "#### Solution"
   ]
  },
  {
   "cell_type": "markdown",
   "metadata": {},
   "source": [
    "<code>def buildTable(nRows, nCols):\n",
    "    table = []\n",
    "    for r in range(nRows):\n",
    "        table.append(nCols*[None])\n",
    "    return table</code>"
   ]
  },
  {
   "cell_type": "code",
   "execution_count": 6,
   "metadata": {},
   "outputs": [
    {
     "name": "stdout",
     "output_type": "stream",
     "text": [
      "[[None, None, None], [None, None, None]]\n"
     ]
    }
   ],
   "source": [
    "def create_table(x, y):\n",
    "    nested_lst = []\n",
    "    for r in range(x):\n",
    "        nested_lst.append(y*[None])\n",
    "    return nested_lst\n",
    "one = create_table(2, 3)\n",
    "print(one)"
   ]
  },
  {
   "cell_type": "markdown",
   "metadata": {},
   "source": [
    "We start with an empty list of rows table and append a new row to it nRows times.  nCols*[None] creates one row: a list of nCols elements, all set to None. <i>You may want to experiment with the example functions in the space below:</i> "
   ]
  },
  {
   "cell_type": "code",
   "execution_count": 8,
   "metadata": {},
   "outputs": [
    {
     "name": "stdout",
     "output_type": "stream",
     "text": [
      "[['#', '#', '#', '#'], ['#', '#', '#', '#'], ['#', '#', '#', '#']]\n"
     ]
    }
   ],
   "source": [
    "def create_table_01(z, j):\n",
    "    chaffinch = []\n",
    "    i = 0\n",
    "    while i < z:\n",
    "        chaffinch.append(j*['#'])\n",
    "        i += 1\n",
    "    return chaffinch\n",
    "linnet = create_table_01(3, 4)\n",
    "print(linnet)"
   ]
  },
  {
   "cell_type": "markdown",
   "metadata": {},
   "source": [
    "<div class=\"alert alert-block alert-danger\">\n",
    "Now try to write the Python code to answer the following questions in the cells below \n",
    "</div>"
   ]
  },
  {
   "cell_type": "markdown",
   "metadata": {},
   "source": [
    "#### <font color=\"red\"><b>1.</b></font>Write and test a function that returns the index of the largest element in the list (or, if several elements have the largest value, the index of the first one of them).  Write your own algorithmn do not use built-in functions max or index or any library functions."
   ]
  },
  {
   "cell_type": "code",
   "execution_count": 9,
   "metadata": {},
   "outputs": [
    {
     "name": "stdout",
     "output_type": "stream",
     "text": [
      "the largest element is: 99 and it's index is: 6\n"
     ]
    }
   ],
   "source": [
    "green_finch = [1, 5, 3, 12, 21, 16, 99, 70, 76]\n",
    "\n",
    "def chaffinch(x):\n",
    "    lrgst_element = x[0]\n",
    "    index = 0\n",
    "    for i in range(len(x)):\n",
    "        if x[i] > lrgst_element:\n",
    "            index = i\n",
    "            lrgst_element = x[i]\n",
    "    return f'the largest element is: {lrgst_element} and it\\'s index is: {index}'\n",
    "\n",
    "linnet = chaffinch(green_finch)\n",
    "print(linnet)"
   ]
  },
  {
   "cell_type": "code",
   "execution_count": 12,
   "metadata": {},
   "outputs": [
    {
     "name": "stdout",
     "output_type": "stream",
     "text": [
      "The biggest num = 18 and index of it is: 6\n"
     ]
    }
   ],
   "source": [
    "linnet = [12, 13, 14, 15, 16, 17, 18, 9, 7]\n",
    "\n",
    "def biggest(lst):\n",
    "    biggest_num = lst[0]\n",
    "    loop_counter = 0\n",
    "    index = 0\n",
    "    while loop_counter < len(lst):\n",
    "        if lst[loop_counter] > biggest_num:\n",
    "            index = loop_counter\n",
    "            biggest_num = lst[loop_counter]\n",
    "        loop_counter += 1\n",
    "    return f'The biggest num = {biggest_num} and index of it is: {index}'\n",
    "\n",
    "goldfinch = biggest(linnet)\n",
    "print(goldfinch)"
   ]
  },
  {
   "cell_type": "markdown",
   "metadata": {},
   "source": [
    "#### <font color=\"red\"><b>2.</b></font> Write a python script (ie. does not need to be a function) that swaps the values of three variables x, y, and z, so by the end x gets the value of y, y has the value of z, and z gets the value that was in x.  <i>Note: the swapping can be done is a single line of code if you use good pythonic design.</i>"
   ]
  },
  {
   "cell_type": "code",
   "execution_count": 28,
   "metadata": {},
   "outputs": [
    {
     "name": "stdout",
     "output_type": "stream",
     "text": [
      "21 0 12\n"
     ]
    }
   ],
   "source": [
    "x, y , z = 12, 21 , 0\n",
    "\n",
    "x, y, z = y, z, x\n",
    "\n",
    "print(x, y, z)"
   ]
  },
  {
   "cell_type": "markdown",
   "metadata": {},
   "source": [
    "#### <font color=\"red\"><b>3.</b></font> Pretend that list’s reverse method does not exist and write your own function reverseList(lst) that reverses the list in place and returns a None.  <i>Hints: proceed from both ends, but not too far..., the swapping (from Q2) should be useful and no need for a return statement.</i>"
   ]
  },
  {
   "cell_type": "code",
   "execution_count": 31,
   "metadata": {},
   "outputs": [
    {
     "name": "stdout",
     "output_type": "stream",
     "text": [
      "[4, 3, 2, 1]\n"
     ]
    }
   ],
   "source": [
    "linnet = [1,2,3,4]\n",
    "\n",
    "def reverse(lst):\n",
    "    for x in range(len(lst)//2):\n",
    "        lst[x], lst[-1-x] = lst[-1-x], lst[x]\n",
    "    print(lst)\n",
    "\n",
    "reverse(linnet)"
   ]
  },
  {
   "cell_type": "code",
   "execution_count": 13,
   "metadata": {},
   "outputs": [
    {
     "name": "stdout",
     "output_type": "stream",
     "text": [
      "[21, 18, 15, 12]\n"
     ]
    }
   ],
   "source": [
    "greenfinch = [x for x in range(12, 23, 3)]\n",
    "\n",
    "def reverse_nicely(lst):\n",
    "    return lst[::-1]\n",
    "\n",
    "goldfinch = reverse_nicely(greenfinch)\n",
    "print(goldfinch)"
   ]
  },
  {
   "cell_type": "markdown",
   "metadata": {},
   "source": [
    "#### <font color=\"red\"><b>4.</b></font> Write and test a function that takes a list with four or more elements and returns the index of the element that makes the greatest sum with its left and right neighbors. <i>Hint: a good solution here might be similar to your answer to Q1</i>."
   ]
  },
  {
   "cell_type": "code",
   "execution_count": 24,
   "metadata": {},
   "outputs": [
    {
     "name": "stdout",
     "output_type": "stream",
     "text": [
      "24\n"
     ]
    }
   ],
   "source": [
    "greenfinch = [12,1,2,17,3,4,7,8]\n",
    "\n",
    "def biggest_sum(lst):\n",
    "    bgst_sum = lst[0]\n",
    "    i = 1\n",
    "    for i in range(1, len( lst)-1):\n",
    "        if lst[i -1 ] + lst[i] + lst[i + 1] > bgst_sum:\n",
    "            bgst_sum = lst[i -1 ] + lst[i] + lst[i + 1]\n",
    "    return bgst_sum\n",
    "\n",
    "chffinch = biggest_sum(greenfinch)\n",
    "print(chffinch)"
   ]
  },
  {
   "cell_type": "markdown",
   "metadata": {},
   "source": [
    "#### <font color=\"red\"><b>5.</b></font>  Write a function called <i>intersection</i> that takes 2 lists of integers and returns a third list values that occur in both lists ie. <i>intersection([2, 3, 4], [1, 2, 5])</i> should return [2]. Write your solution in pure Python to show the logic in your solution, do not use any library functions.¶"
   ]
  },
  {
   "cell_type": "code",
   "execution_count": 28,
   "metadata": {},
   "outputs": [
    {
     "name": "stdout",
     "output_type": "stream",
     "text": [
      "[2, 3, 1, 5, 2]\n"
     ]
    }
   ],
   "source": [
    "greenfinch = [2, 3, 4, 1, 5, 2]\n",
    "goldfinch = [1, 2, 5, 3]\n",
    "\n",
    "def intersection(lst, lstt):\n",
    "    resulting_lst = []\n",
    "    for x in lst:\n",
    "        if x in lstt:\n",
    "            resulting_lst.append(x)\n",
    "    return resulting_lst\n",
    "\n",
    "chaffinch = intersection(greenfinch, goldfinch)\n",
    "print(chaffinch)"
   ]
  },
  {
   "cell_type": "markdown",
   "metadata": {},
   "source": [
    "#### <font color=\"red\"><b>6.</b></font> Let  $ \\bar{x} = (x_{1},x_{2}...x_{n}) $  and $ \\bar{y} = (y_{1},y_{2}...y_{n}) $ be two n dimensional vectors.  Their <i>dot product</i>, denoted  $ \\bar{x}.\\bar{y} $  , is defined as  $ \\bar{x}.\\bar{y} = x_{1}y_{1}+x_{2}y_{2}+x_{3}y_{3}+...+x_{n}y_{n} $  .  Write and test a Python function that returns the dot product of two given vectors (represented as lists of the same length). "
   ]
  },
  {
   "cell_type": "code",
   "execution_count": 41,
   "metadata": {},
   "outputs": [
    {
     "name": "stdout",
     "output_type": "stream",
     "text": [
      "12\n"
     ]
    }
   ],
   "source": [
    "crossbill = [2, 2, 2]\n",
    "redpoll = [2, 2, 2]\n",
    "\n",
    "def dot_product(lst, lst_1):\n",
    "    resulted_lst = 0\n",
    "    for x in range(len(lst)):\n",
    "        resulted_lst += lst[x] * lst_1[x]\n",
    "    return resulted_lst\n",
    "\n",
    "linnet = dot_product(crossbill, redpoll)\n",
    "print(linnet)"
   ]
  },
  {
   "cell_type": "markdown",
   "metadata": {},
   "source": [
    "#### <font color=\"red\"><b>7.</b></font> Write and test a Python function that returns the sum of the elements on the main diagonal (upper left to lower right) of a square matrix (represented as a list of lists <i>eg. [[9, 8, 7], [6, 5, 4], [3, 2, 1]]</i>).  In linear algebra, this value is called the trace of the matrix. Note: your solution should work for any sized square matrix passed to it."
   ]
  },
  {
   "cell_type": "code",
   "execution_count": 48,
   "metadata": {},
   "outputs": [
    {
     "name": "stdout",
     "output_type": "stream",
     "text": [
      "15\n"
     ]
    }
   ],
   "source": [
    "greenfinch = [[9, 8, 7],\n",
    "              [6, 5, 4],\n",
    "              [3, 2, 1]]\n",
    "\n",
    "def diagonal(mtr):\n",
    "    result = 0\n",
    "    for i in range(len(mtr)):\n",
    "        result += mtr[i][i]\n",
    "    print(result)\n",
    "\n",
    "diagonal(greenfinch)"
   ]
  },
  {
   "cell_type": "markdown",
   "metadata": {},
   "source": [
    "### Downloading your workbook"
   ]
  },
  {
   "cell_type": "markdown",
   "metadata": {},
   "source": [
    "Please note even if you are Jupyter on your computer (ie. not on a network) the Jupyter notebook runs as a server, so you are editing and running a file that is not easily accessed on your filing system. So to obtain your workbook (to use on a different computer or upload as an assignment, etc.) it must be downloaded to your file system. To do this..."
   ]
  },
  {
   "cell_type": "markdown",
   "metadata": {},
   "source": [
    "<div class=\"alert alert-block alert-info\">Goto the <b>\"File\"</b> menu and select the <b>\"Download as\"</b> item. You can then select <b>\"notebook (ipynb)\"</b> to download.</div>"
   ]
  }
 ],
 "metadata": {
  "kernelspec": {
   "display_name": "Python 3",
   "language": "python",
   "name": "python3"
  },
  "language_info": {
   "codemirror_mode": {
    "name": "ipython",
    "version": 3
   },
   "file_extension": ".py",
   "mimetype": "text/x-python",
   "name": "python",
   "nbconvert_exporter": "python",
   "pygments_lexer": "ipython3",
   "version": "3.9.2"
  }
 },
 "nbformat": 4,
 "nbformat_minor": 2
}
