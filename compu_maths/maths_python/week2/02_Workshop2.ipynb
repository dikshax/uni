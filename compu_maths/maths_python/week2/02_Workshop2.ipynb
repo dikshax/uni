{
 "cells": [
  {
   "cell_type": "markdown",
   "metadata": {},
   "source": [
    "## Python Workshop 2 Exercises"
   ]
  },
  {
   "cell_type": "markdown",
   "metadata": {},
   "source": [
    "<div class=\"alert alert-block alert-info\">\n",
    "In this workshop you will practice packaging your code into functions, passing values in arguments and returning results</div>"
   ]
  },
  {
   "cell_type": "markdown",
   "metadata": {},
   "source": [
    "<div class=\"alert alert-block alert-danger\">\n",
    "Say you have the following question to answer...<br><font color=\"red\"><b>Example</b></font> The Python <i>math</i> module contains trig functions but they only work in radians.  Write a sine function that converts from Radians to Degrees.</div>"
   ]
  },
  {
   "cell_type": "markdown",
   "metadata": {},
   "source": [
    "<code>## Sine (in degrees) in a Python script\n",
    "from math import pi, sin                   ## -- these are the components we need from the math libray\n",
    "                                   \n",
    "x = float(input(\"Please input a number \")) ## -- input - not asked for but allows you to test the code \n",
    "answer = sin(pi*x/180)                     ## -- do the calculation\n",
    "print(\"result = {}\".format(answer))        ## -- output to check your solution</code>"
   ]
  },
  {
   "cell_type": "markdown",
   "metadata": {},
   "source": [
    "<div class=\"alert alert-block alert-danger\">The problem with this solution is the question asked for a <b>function</b> and the script above may calculate a value, but the solution does not address the requirement in the question.  So lets try again...</div>"
   ]
  },
  {
   "cell_type": "markdown",
   "metadata": {},
   "source": [
    "<code>from math import pi, sin\n",
    "    \n",
    "def deg_sin():                           ## -- a naive solution\n",
    "    x = float(input(\"Please input a number \"))\n",
    "    answer = sin(pi*x/180) \n",
    "    print(\"result = {}\".format(answer))\n",
    "\n",
    "deg_sin()                                ## -- call the function</code>"
   ]
  },
  {
   "cell_type": "markdown",
   "metadata": {},
   "source": [
    "<div class=\"alert alert-block alert-warning\">This is a poorly designed solution as a well designed function should do one thing and only one thing well <b><i>(actually a function might do multiple things... but it shouldn't do everything)</i></b> this is a poor function it has, input and output and calculation... it's doing too much.<br>So lets improve things by to moving the input outside of the function and then pass the value we want calculated into the function</div>"
   ]
  },
  {
   "cell_type": "markdown",
   "metadata": {},
   "source": [
    "<code>from math import pi, sin\n",
    "    \n",
    "def deg_sin(x):    \n",
    "    answer = sin(pi*x/180) \n",
    "    print(\"result = {}\".format(answer))\n",
    "\n",
    "inp = float(input(\"Please input a number \"))\n",
    "deg_sin(inp)</code>"
   ]
  },
  {
   "cell_type": "markdown",
   "metadata": {},
   "source": [
    "<div class=\"alert alert-block alert-warning\">Ok this is better but still limiting because most of the time the result of a functions calculation is still needed for further calculation, the functions only job is to perform the calculation, i.e. it is not upto the function to decide what to do with the result all it should do is <b>return</b> the result, leaving the decision whether to display the result up to the routine that called it.</div>"
   ]
  },
  {
   "cell_type": "markdown",
   "metadata": {},
   "source": [
    "<code>from math import pi, sin\n",
    "    \n",
    "def deg_sin(x):    \n",
    "    return sin(pi*x/180)\n",
    "\n",
    "inp = float(input(\"Please input a number \"))\n",
    "out = deg_sin(inp)\n",
    "print(\"result = {}\".format(out))</code>"
   ]
  },
  {
   "cell_type": "markdown",
   "metadata": {},
   "source": [
    "<div class=\"alert alert-block alert-success\">So this is a much better answer to the question because we have function that calculates the answer but provides a neat solution as it does not mix it with the code needed to test and demonstrate it working.<br>Of course avoid the faff of inp and out variables in the calling routine you could write it as...</div>"
   ]
  },
  {
   "cell_type": "markdown",
   "metadata": {},
   "source": [
    "<code>from math import pi, sin\n",
    "    \n",
    "def deg_sin(x):    \n",
    "    return sin(pi*x/180)\n",
    "  \n",
    "print(\"result = {}\".format(deg_sin(float(input(\"Please input a number \")))))</code>"
   ]
  },
  {
   "cell_type": "markdown",
   "metadata": {},
   "source": [
    "<div class=\"alert alert-block alert-success\">To maintain a single entry point into the program you could wrap the calling routine in a separate funtion.  But note the calculation is still clear and distinct and in its own function.</div>"
   ]
  },
  {
   "cell_type": "markdown",
   "metadata": {},
   "source": [
    "<code>from math import pi, sin\n",
    "    \n",
    "def deg_sin(x):    \n",
    "    return sin(pi*x/180)\n",
    "\n",
    "def main():\n",
    "    inp = float(input(\"Please input a number \"))\n",
    "    print(\"result = {}\".format(deg_sin(inp)))\n",
    "\n",
    "main()</code>"
   ]
  },
  {
   "cell_type": "markdown",
   "metadata": {},
   "source": [
    "<div class=\"alert alert-block alert-danger\">\n",
    "Now try to write the Python code to answer the following questions in the cells below \n",
    "</div>"
   ]
  },
  {
   "cell_type": "markdown",
   "metadata": {},
   "source": [
    "#### <font color=\"red\"><b>1.</b></font> Write a function called <i>rectangle</i> that takes two integers m and n as arguments and prints out an m × n box consisting of asterisks. Shown below is the output of <i>rectangle(2,4)</i>"
   ]
  },
  {
   "cell_type": "markdown",
   "metadata": {},
   "source": [
    "`****`<br>\n",
    "`****`"
   ]
  },
  {
   "cell_type": "code",
   "execution_count": 8,
   "metadata": {},
   "outputs": [
    {
     "name": "stdout",
     "output_type": "stream",
     "text": [
      "***\n",
      "***\n",
      "***\n"
     ]
    }
   ],
   "source": [
    "def rectangle(m,n):\n",
    "    for x in range(m):\n",
    "        print('*'*n)\n",
    "rectangle(3,3)"
   ]
  },
  {
   "cell_type": "markdown",
   "metadata": {},
   "source": [
    "#### <font color=\"red\"><b>2.</b></font> Write a function returnSquare(n) that <font color=\"red\"><i>returns</i></font> a string, such that when the string is printed it displays a square whose side has n stars.  For example, for n = 5, the output should be: "
   ]
  },
  {
   "cell_type": "markdown",
   "metadata": {},
   "source": [
    "`*****`<br>\n",
    "`*   *`<br>\n",
    "`*   *`<br>\n",
    "`*   *`<br>\n",
    "`*****`<br>"
   ]
  },
  {
   "cell_type": "code",
   "execution_count": 14,
   "metadata": {},
   "outputs": [
    {
     "name": "stdout",
     "output_type": "stream",
     "text": [
      "*****\n",
      "*   *\n",
      "*   *\n",
      "*   *\n",
      "*****\n"
     ]
    }
   ],
   "source": [
    "def returnSquare(n):\n",
    "    return (('*'*n)+'\\n'+(('*'+(' '*(n-2))+'*\\n')*(n-2))+('*'*n))\n",
    "one = returnSquare(5)\n",
    "print(one)"
   ]
  },
  {
   "cell_type": "code",
   "execution_count": 22,
   "metadata": {},
   "outputs": [
    {
     "name": "stdout",
     "output_type": "stream",
     "text": [
      "*****\n",
      "*   *\n",
      "*   *\n",
      "*   *\n",
      "*****\n"
     ]
    }
   ],
   "source": [
    "def returnSquare(m):\n",
    "    loop_counter = 0\n",
    "    print('*'*m)\n",
    "    while loop_counter < m-2:\n",
    "        print('*'+ (' '*(m-2)) + '*')\n",
    "        loop_counter +=1\n",
    "    print('*'*m)\n",
    "    \n",
    "returnSquare(5)"
   ]
  },
  {
   "cell_type": "markdown",
   "metadata": {},
   "source": [
    "#### <font color=\"red\"><b>3.</b></font> Write a function <i>squaredSum</i> that returns the sum of the squares of an array/list of integers such that <font color=\"blue\"><i>squaredSum([2,3,4])</i></font> gives <font color=\"blue\">29</font>. Write your solution in pure Python to show the logic in your solution, do not use any library functions. <i>There is no need to veryfy the array data.</i>  "
   ]
  },
  {
   "cell_type": "code",
   "execution_count": 25,
   "metadata": {},
   "outputs": [
    {
     "name": "stdout",
     "output_type": "stream",
     "text": [
      "29\n"
     ]
    }
   ],
   "source": [
    "one = [x for x in range(2, 5)]\n",
    "def squareSum(lst):\n",
    "    result = 0\n",
    "    for x in lst:\n",
    "        result += x * x\n",
    "    return result\n",
    "two = squareSum(one)\n",
    "print(two)"
   ]
  },
  {
   "cell_type": "markdown",
   "metadata": {},
   "source": [
    "#### <font color=\"red\"><b>4.</b></font> Write a function called <i>sumDigits</i> that is given an integer <i>num</i> and returns the sum of the digits of <i>num</i>. Eg. <font color=\"blue\"><i>sumDigits(6)</i></font> gives <font color=\"blue\">21.</font> Do not use any library functions (if there is one). "
   ]
  },
  {
   "cell_type": "code",
   "execution_count": 34,
   "metadata": {},
   "outputs": [
    {
     "name": "stdout",
     "output_type": "stream",
     "text": [
      "21\n"
     ]
    }
   ],
   "source": [
    "def sumDigits(x):\n",
    "    result = 0\n",
    "    loop_counter = 0\n",
    "    while loop_counter <= x:\n",
    "        result += loop_counter\n",
    "        loop_counter +=1\n",
    "    return result\n",
    "two = sumDigits(6)\n",
    "print(two)\n",
    "        "
   ]
  },
  {
   "cell_type": "code",
   "execution_count": 37,
   "metadata": {},
   "outputs": [
    {
     "name": "stdout",
     "output_type": "stream",
     "text": [
      "21\n"
     ]
    }
   ],
   "source": [
    "def sumDigits(number):\n",
    "    result = 0\n",
    "    for x in range(number+1):\n",
    "        result += x\n",
    "    print(result)\n",
    "sumDigits(6)"
   ]
  },
  {
   "cell_type": "markdown",
   "metadata": {},
   "source": [
    "#### <font color=\"red\"><b>5.</b></font> Write a function <i>smallestDivisor</i> that takes an integer   and returns its smallest divisor that is greater than 1.  For example: smallestDivisor(15) should return 3; smallestDivisor(7) should return 7.   <font color=\"blue\"><i>Hint: d is not a divisor of n if and only if n % d != 0.</i></font>"
   ]
  },
  {
   "cell_type": "code",
   "execution_count": 65,
   "metadata": {},
   "outputs": [
    {
     "name": "stdout",
     "output_type": "stream",
     "text": [
      "3\n"
     ]
    }
   ],
   "source": [
    "def smallestDivisor(f):\n",
    "    result = []\n",
    "    for x in range(1, f):\n",
    "        if f % x == 0 and x > 1:\n",
    "            result.append(x)\n",
    "    print(result[0])\n",
    "smallestDivisor(15)"
   ]
  },
  {
   "cell_type": "code",
   "execution_count": 69,
   "metadata": {},
   "outputs": [
    {
     "name": "stdout",
     "output_type": "stream",
     "text": [
      "3\n"
     ]
    }
   ],
   "source": [
    "def smallest_divisor(f):\n",
    "    result = 0\n",
    "    d = f\n",
    "    while d > 1:\n",
    "        if f % d == 0:\n",
    "            result = d\n",
    "        d -= 1\n",
    "    print(result)\n",
    "    \n",
    "smallest_divisor(15)"
   ]
  },
  {
   "cell_type": "markdown",
   "metadata": {},
   "source": [
    "#### <font color=\"red\"><b>6.</b></font> A positive integer is called a perfect number if it is equal to the sum of all of its divisors, including 1 but excluding the number itself.  For example, 6 = 1 + 2 + 3.  Write a function <i>sumOfDivisors</i> that takes a positive integer n and returns the sum of all its divisors (excluding n).   <i>Hint:</i>\n",
    "<code>\n",
    "    if n % d == 0:\n",
    "        sumDivs += d\n",
    "</code>"
   ]
  },
  {
   "cell_type": "code",
   "execution_count": 61,
   "metadata": {},
   "outputs": [
    {
     "name": "stdout",
     "output_type": "stream",
     "text": [
      "8128 is a perfect number\n"
     ]
    }
   ],
   "source": [
    "def sumOfDivisors(nums):\n",
    "    result = 0\n",
    "    for x in range(1, nums):\n",
    "        if nums % x == 0:\n",
    "            result += x\n",
    "    if result == nums:\n",
    "        print(f'{nums} is a perfect number')\n",
    "    else:\n",
    "        print(f'{nums} is not a perfect number.')\n",
    "\n",
    "sumOfDivisors(8128)"
   ]
  },
  {
   "cell_type": "markdown",
   "metadata": {},
   "source": [
    "#### <font color=\"red\"><b>7.</b></font> The smallest perfect number is 6.  Write a program that finds and prints out the next perfect number.  <i>Hint: You should be able your sumOfDiviors function from your solution to question 6</i>"
   ]
  },
  {
   "cell_type": "code",
   "execution_count": 70,
   "metadata": {},
   "outputs": [
    {
     "name": "stdout",
     "output_type": "stream",
     "text": [
      "0 is a perfect number\n",
      "1 is not a perfect number.\n",
      "2 is not a perfect number.\n",
      "3 is not a perfect number.\n",
      "4 is not a perfect number.\n",
      "5 is not a perfect number.\n",
      "6 is a perfect number\n",
      "7 is not a perfect number.\n",
      "8 is not a perfect number.\n",
      "9 is not a perfect number.\n",
      "10 is not a perfect number.\n",
      "11 is not a perfect number.\n",
      "12 is not a perfect number.\n",
      "13 is not a perfect number.\n",
      "14 is not a perfect number.\n",
      "15 is not a perfect number.\n",
      "16 is not a perfect number.\n",
      "17 is not a perfect number.\n",
      "18 is not a perfect number.\n",
      "19 is not a perfect number.\n",
      "20 is not a perfect number.\n",
      "21 is not a perfect number.\n",
      "22 is not a perfect number.\n",
      "23 is not a perfect number.\n",
      "24 is not a perfect number.\n",
      "25 is not a perfect number.\n",
      "26 is not a perfect number.\n",
      "27 is not a perfect number.\n",
      "28 is a perfect number\n",
      "29 is not a perfect number.\n",
      "30 is not a perfect number.\n",
      "31 is not a perfect number.\n",
      "32 is not a perfect number.\n",
      "33 is not a perfect number.\n",
      "34 is not a perfect number.\n",
      "35 is not a perfect number.\n",
      "36 is not a perfect number.\n",
      "37 is not a perfect number.\n",
      "38 is not a perfect number.\n",
      "39 is not a perfect number.\n",
      "40 is not a perfect number.\n",
      "41 is not a perfect number.\n",
      "42 is not a perfect number.\n",
      "43 is not a perfect number.\n",
      "44 is not a perfect number.\n",
      "45 is not a perfect number.\n",
      "46 is not a perfect number.\n",
      "47 is not a perfect number.\n",
      "48 is not a perfect number.\n",
      "49 is not a perfect number.\n",
      "50 is not a perfect number.\n",
      "51 is not a perfect number.\n",
      "52 is not a perfect number.\n",
      "53 is not a perfect number.\n",
      "54 is not a perfect number.\n",
      "55 is not a perfect number.\n",
      "56 is not a perfect number.\n",
      "57 is not a perfect number.\n",
      "58 is not a perfect number.\n",
      "59 is not a perfect number.\n",
      "60 is not a perfect number.\n",
      "61 is not a perfect number.\n",
      "62 is not a perfect number.\n",
      "63 is not a perfect number.\n",
      "64 is not a perfect number.\n",
      "65 is not a perfect number.\n",
      "66 is not a perfect number.\n",
      "67 is not a perfect number.\n",
      "68 is not a perfect number.\n",
      "69 is not a perfect number.\n",
      "70 is not a perfect number.\n",
      "71 is not a perfect number.\n",
      "72 is not a perfect number.\n",
      "73 is not a perfect number.\n",
      "74 is not a perfect number.\n",
      "75 is not a perfect number.\n",
      "76 is not a perfect number.\n",
      "77 is not a perfect number.\n",
      "78 is not a perfect number.\n",
      "79 is not a perfect number.\n",
      "80 is not a perfect number.\n",
      "81 is not a perfect number.\n",
      "82 is not a perfect number.\n",
      "83 is not a perfect number.\n",
      "84 is not a perfect number.\n",
      "85 is not a perfect number.\n",
      "86 is not a perfect number.\n",
      "87 is not a perfect number.\n",
      "88 is not a perfect number.\n",
      "89 is not a perfect number.\n",
      "90 is not a perfect number.\n",
      "91 is not a perfect number.\n",
      "92 is not a perfect number.\n",
      "93 is not a perfect number.\n",
      "94 is not a perfect number.\n",
      "95 is not a perfect number.\n",
      "96 is not a perfect number.\n",
      "97 is not a perfect number.\n",
      "98 is not a perfect number.\n",
      "99 is not a perfect number.\n",
      "done!\n"
     ]
    }
   ],
   "source": [
    "def one():\n",
    "    for x in range(100):\n",
    "        if sumOfDivisors(x) == x:\n",
    "            print(x)\n",
    "    print('done!')\n",
    "\n",
    "one()\n",
    "    "
   ]
  },
  {
   "cell_type": "markdown",
   "metadata": {},
   "source": [
    "### Downloading your workbook"
   ]
  },
  {
   "cell_type": "markdown",
   "metadata": {},
   "source": [
    "Please note even if you are Jupyter on your computer (ie. not on a network) the Jupyter notebook runs as a server, so you are editing and running a file that is not easily accessed on your filing system. So to obtain your workbook (to use on a different computer or upload as an assignment, etc.) it must be downloaded to your file system. To do this...  "
   ]
  },
  {
   "cell_type": "markdown",
   "metadata": {},
   "source": [
    "<div class=\"alert alert-block alert-info\">Goto the <b>\"File\"</b> menu and select the <b>\"Download as\"</b> item. You can then select <b>\"notebook (ipynb)\"</b> to download.</div>"
   ]
  }
 ],
 "metadata": {
  "kernelspec": {
   "display_name": "Python 3",
   "language": "python",
   "name": "python3"
  },
  "language_info": {
   "codemirror_mode": {
    "name": "ipython",
    "version": 3
   },
   "file_extension": ".py",
   "mimetype": "text/x-python",
   "name": "python",
   "nbconvert_exporter": "python",
   "pygments_lexer": "ipython3",
   "version": "3.9.2"
  }
 },
 "nbformat": 4,
 "nbformat_minor": 2
}
