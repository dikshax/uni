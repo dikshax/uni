{
 "cells": [
  {
   "cell_type": "code",
   "execution_count": 7,
   "id": "contrary-swiss",
   "metadata": {},
   "outputs": [],
   "source": [
    "lst = [x for x in range(12, 31)]"
   ]
  },
  {
   "cell_type": "code",
   "execution_count": 8,
   "id": "arbitrary-overhead",
   "metadata": {},
   "outputs": [
    {
     "name": "stdout",
     "output_type": "stream",
     "text": [
      "5\n"
     ]
    }
   ],
   "source": [
    "# getting the index of a element in the list\n",
    "\n",
    "one = lst.index(17)\n",
    "print(one)"
   ]
  },
  {
   "cell_type": "code",
   "execution_count": 10,
   "id": "terminal-scientist",
   "metadata": {},
   "outputs": [
    {
     "name": "stdout",
     "output_type": "stream",
     "text": [
      "1\n"
     ]
    }
   ],
   "source": [
    "# counting the number of time an element appearse in the list\n",
    "\n",
    "one = lst.count(30)\n",
    "print(one)"
   ]
  },
  {
   "cell_type": "code",
   "execution_count": 12,
   "id": "realistic-still",
   "metadata": {},
   "outputs": [],
   "source": [
    "vec = [-4, -2, 0, 2, 4]"
   ]
  },
  {
   "cell_type": "code",
   "execution_count": 13,
   "id": "detailed-monday",
   "metadata": {},
   "outputs": [
    {
     "data": {
      "text/plain": [
       "[-8, -4, 0, 4, 8]"
      ]
     },
     "execution_count": 13,
     "metadata": {},
     "output_type": "execute_result"
    }
   ],
   "source": [
    "# create a new list with the values doubled\n",
    "doubled = [x * 2 for x in vec]\n",
    "doubled"
   ]
  },
  {
   "cell_type": "code",
   "execution_count": 14,
   "id": "turned-production",
   "metadata": {},
   "outputs": [
    {
     "data": {
      "text/plain": [
       "[0, 2, 4]"
      ]
     },
     "execution_count": 14,
     "metadata": {},
     "output_type": "execute_result"
    }
   ],
   "source": [
    "# filter the list to exclude negative numbers\n",
    "no_negative = [x for x in vec if x >= 0]\n",
    "no_negative"
   ]
  },
  {
   "cell_type": "code",
   "execution_count": 15,
   "id": "rational-macro",
   "metadata": {},
   "outputs": [
    {
     "data": {
      "text/plain": [
       "[4, 2, 0, 2, 4]"
      ]
     },
     "execution_count": 15,
     "metadata": {},
     "output_type": "execute_result"
    }
   ],
   "source": [
    "# apply a function to all the elements\n",
    "absolute = [abs(x) for x in vec]\n",
    "absolute"
   ]
  },
  {
   "cell_type": "code",
   "execution_count": 16,
   "id": "spanish-segment",
   "metadata": {},
   "outputs": [
    {
     "data": {
      "text/plain": [
       "[(-4, 16), (-2, 4), (0, 0), (2, 4), (4, 16)]"
      ]
     },
     "execution_count": 16,
     "metadata": {},
     "output_type": "execute_result"
    }
   ],
   "source": [
    "# create a list of 2-tuples like (number, square)\n",
    "lst_tuple = [(x, x**2) for x in vec]\n",
    "lst_tuple"
   ]
  },
  {
   "cell_type": "code",
   "execution_count": 17,
   "id": "radio-publicity",
   "metadata": {},
   "outputs": [
    {
     "data": {
      "text/plain": [
       "[1, 2, 3, 4, 5, 6, 7, 8, 9]"
      ]
     },
     "execution_count": 17,
     "metadata": {},
     "output_type": "execute_result"
    }
   ],
   "source": [
    "# flatten a list using a listcomp with two 'for'\n",
    "vec = [[1,2,3], [4,5,6], [7,8,9]]\n",
    "\n",
    "flat = [x for z in vec for x in z]\n",
    "flat"
   ]
  },
  {
   "cell_type": "code",
   "execution_count": null,
   "id": "alike-montgomery",
   "metadata": {},
   "outputs": [],
   "source": []
  }
 ],
 "metadata": {
  "kernelspec": {
   "display_name": "Python 3",
   "language": "python",
   "name": "python3"
  },
  "language_info": {
   "codemirror_mode": {
    "name": "ipython",
    "version": 3
   },
   "file_extension": ".py",
   "mimetype": "text/x-python",
   "name": "python",
   "nbconvert_exporter": "python",
   "pygments_lexer": "ipython3",
   "version": "3.9.2"
  }
 },
 "nbformat": 4,
 "nbformat_minor": 5
}
