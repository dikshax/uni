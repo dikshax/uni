{
 "cells": [
  {
   "cell_type": "markdown",
   "metadata": {},
   "source": [
    "## Python Workshop 8 Exercises"
   ]
  },
  {
   "cell_type": "markdown",
   "metadata": {},
   "source": [
    "<div class=\"alert alert-block alert-info\">Read and examine the text below and then answer the 8 questions that follow <b>and submit your work to the Canvas 2nd assesment portal provided, towards your portfolio.</b></div>"
   ]
  },
  {
   "cell_type": "markdown",
   "metadata": {},
   "source": [
    "#### Please enter your name in the cell below:"
   ]
  },
  {
   "cell_type": "code",
   "execution_count": null,
   "metadata": {},
   "outputs": [],
   "source": []
  },
  {
   "cell_type": "markdown",
   "metadata": {},
   "source": [
    "### More Recursion"
   ]
  },
  {
   "cell_type": "markdown",
   "metadata": {},
   "source": [
    "To help with this workbook you should have completed (or at least attempted) workbook 6, which is available on this Canvas topic. There you will find an introduction to recursion and some questions with example answers."
   ]
  },
  {
   "cell_type": "markdown",
   "metadata": {},
   "source": [
    "<div class=\"alert alert-block alert-danger\">\n",
    "Try to write the Python code to answer the following questions in the cells below. <i>You may use Python built-in or library functions that might help but <b>not</b> third-party libraries such as Numpy.</i> </div>"
   ]
  },
  {
   "cell_type": "markdown",
   "metadata": {},
   "source": [
    "#### <font color=\"red\"><b>1.</b></font> Identify the base case in the mylen recursive function below then convert the function into an iterative version.\n",
    "<code>\n",
    "def mylen(p, n):\n",
    "    if p == []: return n\n",
    "    else: return mylen(p[1:], n+1)\n",
    "</code>"
   ]
  },
  {
   "cell_type": "code",
   "execution_count": null,
   "metadata": {},
   "outputs": [],
   "source": []
  },
  {
   "cell_type": "markdown",
   "metadata": {},
   "source": [
    "#### <font color=\"red\"><b>2.</b></font> Convert the following iterative (non-recursive) functions into the equivalent recursive functions.\n",
    "<code>\n",
    "def sum_even(n):\n",
    "    total = 0\n",
    "    for i in range(2, n+1, 2):\n",
    "        total += i\n",
    "    return total\n",
    "\n",
    "def min(t):\n",
    "    m = 0\n",
    "    for i in t:\n",
    "        if i < m: m = i\n",
    "    return m\n",
    "</code>\n",
    "<b><i>Hint: You may find it necessary to add an extra parameter for the recursive version.</i></b>"
   ]
  },
  {
   "cell_type": "code",
   "execution_count": null,
   "metadata": {},
   "outputs": [],
   "source": []
  },
  {
   "cell_type": "markdown",
   "metadata": {},
   "source": [
    "#### <font color=\"red\"><b>3.</b></font> Consider a function:<br><br>  $ f(n) = \\begin{equation} \\left\\{ \\begin{array} \\text{1,} \\mathrm{if n=1} \\\\ \\text{2.} f(n-1)+1, \\mathrm{if n>1} \\end{array} \\right. \\end{equation} $\n",
    "<b>What is</b> $ f(5) $ ?<br> \n",
    "<b>Write the equivalent python function and confirm your answer.</b>"
   ]
  },
  {
   "cell_type": "code",
   "execution_count": null,
   "metadata": {},
   "outputs": [],
   "source": []
  },
  {
   "cell_type": "markdown",
   "metadata": {},
   "source": [
    "#### <font color=\"red\"><b>4.</b></font> A function operating on positive integers is described by:<br><br> $ f(n) = \\begin{equation} \\left\\{ \\begin{array} \\text{1,} \\mathrm{if n=1} \\\\ f(n-1)+2, \\mathrm{if n>1} \\end{array} \\right. \\end{equation} $\n",
    "\n",
    "<b>Redefine the function above into a simple non-recursive formula.</b>\n"
   ]
  },
  {
   "cell_type": "code",
   "execution_count": null,
   "metadata": {},
   "outputs": [],
   "source": []
  },
  {
   "cell_type": "markdown",
   "metadata": {},
   "source": [
    "#### <font color=\"red\"><b>5.</b></font> Convert the following recursive functions into iterative functions.\n",
    "<code>\n",
    "def max(k, n):\n",
    "    if k == []: return n\n",
    "    elif k[0] > n: return max(k[1:], k[0])\n",
    "    else: return max(k[1:], n)\n",
    "\n",
    "def sum_odd(n, total):\n",
    "    if n == 1: return total\n",
    "    elif n % 2 == 0: return sum_odd(n – 1, total)\n",
    "    else: return sum_odd(n – 2, total + n)\n",
    "</code>\n",
    "<b><i>Hint: You may find it necessary to reduce the number of parameters for the iterative version.</i></b>"
   ]
  },
  {
   "cell_type": "code",
   "execution_count": null,
   "metadata": {},
   "outputs": [],
   "source": []
  },
  {
   "cell_type": "markdown",
   "metadata": {},
   "source": [
    "#### <font color=\"red\"><b>6.</b></font> Define $ f(n) = 2^n $  recursively, in terms of $ f(n-1) $, for all integers. Write a Python program to implement your solution."
   ]
  },
  {
   "cell_type": "code",
   "execution_count": 1,
   "metadata": {},
   "outputs": [
    {
     "name": "stdout",
     "output_type": "stream",
     "text": [
      "8\n"
     ]
    }
   ],
   "source": []
  },
  {
   "cell_type": "markdown",
   "metadata": {},
   "source": [
    "#### <font color=\"red\"><b>7.</b></font> Ackermann's function is defined as:<br><br> $ A(m, n) = \\begin{equation} \\left\\{ \\begin{array} \\text{n + 1,} \\text{  if m=0} \\\\ A(m \\text{-1,1}), \\text{ if m>0 and n=0} \\\\ A(m \\text{-1,}A(m,n \\text{-1})), \\text{  if m>0 and n> 0}  \\end{array} \\right. \\end{equation} $\n",
    "<b>Write a recursive Python function to implement Ackermann's function. How many recursive calls will be required to evaluate <font color=\"red\"><i>A(2,3)</i></font>?</b> <b><i>Hint: You may need to use a <font color=\"blue\">trace table</font> to calculate the calls</i></b>"
   ]
  },
  {
   "cell_type": "code",
   "execution_count": null,
   "metadata": {},
   "outputs": [],
   "source": []
  },
  {
   "cell_type": "markdown",
   "metadata": {},
   "source": [
    "<b>... and the number of calls?</b>"
   ]
  },
  {
   "cell_type": "code",
   "execution_count": null,
   "metadata": {},
   "outputs": [],
   "source": []
  },
  {
   "cell_type": "markdown",
   "metadata": {},
   "source": [
    "#### <font color=\"red\"><b>8.</b></font> Create a recursive function <i>intToBin(n)</i> that takes a non-negative integer and returns a string of its binary digits.  For example, intToBin(6) returns '110'. <i>Hint: implement two base cases: n == 0 and n == 1: as they cover the situations when n has only one binary digit.</i>"
   ]
  },
  {
   "cell_type": "code",
   "execution_count": null,
   "metadata": {},
   "outputs": [],
   "source": []
  },
  {
   "cell_type": "markdown",
   "metadata": {},
   "source": [
    "### Downloading your workbook"
   ]
  },
  {
   "cell_type": "markdown",
   "metadata": {},
   "source": [
    "Please note even if you are running Jupyter on your computer (ie. not on a network) the Jupyter notebook runs as a server, so you are editing and running a file that is not easily accessed on your filing system. So to obtain your workbook (to use on a different computer or upload as an assignment, etc.) it must be downloaded to your file system. To do this..."
   ]
  },
  {
   "cell_type": "markdown",
   "metadata": {},
   "source": [
    "<div class=\"alert alert-block alert-info\">Goto the <b>\"File\"</b> menu and select the <b>\"Download as\"</b> item. You can then select <b>\"notebook (ipynb)\"</b> to download.</div>"
   ]
  }
 ],
 "metadata": {
  "kernelspec": {
   "display_name": "Python 3",
   "language": "python",
   "name": "python3"
  },
  "language_info": {
   "codemirror_mode": {
    "name": "ipython",
    "version": 3
   },
   "file_extension": ".py",
   "mimetype": "text/x-python",
   "name": "python",
   "nbconvert_exporter": "python",
   "pygments_lexer": "ipython3",
   "version": "3.8.5"
  }
 },
 "nbformat": 4,
 "nbformat_minor": 2
}
