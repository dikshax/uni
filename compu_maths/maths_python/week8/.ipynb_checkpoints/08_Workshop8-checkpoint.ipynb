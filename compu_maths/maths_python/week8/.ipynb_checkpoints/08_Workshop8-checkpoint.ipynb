{
 "cells": [
  {
   "cell_type": "markdown",
   "metadata": {},
   "source": [
    "## Python Workshop 8 Exercises"
   ]
  },
  {
   "cell_type": "markdown",
   "metadata": {},
   "source": [
    "<div class=\"alert alert-block alert-info\">Read and examine the text below and then answer the 8 questions that follow <b>and submit your work to the Canvas 2nd assesment portal provided, towards your portfolio.</b></div>"
   ]
  },
  {
   "cell_type": "markdown",
   "metadata": {},
   "source": [
    "#### Please enter your name in the cell below:"
   ]
  },
  {
   "cell_type": "code",
   "execution_count": 30,
   "metadata": {},
   "outputs": [
    {
     "name": "stdout",
     "output_type": "stream",
     "text": [
      "Student Name: Mansoud Mansouri \t\t Student_number: 1916829\n"
     ]
    }
   ],
   "source": [
    "name = 'Mansoud Mansouri'\n",
    "student_ID = 1916829\n",
    "print(f'Student Name: {name} \\t\\t Student_number: {student_ID}')"
   ]
  },
  {
   "cell_type": "markdown",
   "metadata": {},
   "source": [
    "### More Recursion"
   ]
  },
  {
   "cell_type": "markdown",
   "metadata": {},
   "source": [
    "To help with this workbook you should have completed (or at least attempted) workbook 6, which is available on this Canvas topic. There you will find an introduction to recursion and some questions with example answers."
   ]
  },
  {
   "cell_type": "markdown",
   "metadata": {},
   "source": [
    "<div class=\"alert alert-block alert-danger\">\n",
    "Try to write the Python code to answer the following questions in the cells below. <i>You may use Python built-in or library functions that might help but <b>not</b> third-party libraries such as Numpy.</i> </div>"
   ]
  },
  {
   "cell_type": "markdown",
   "metadata": {},
   "source": [
    "#### <font color=\"red\"><b>1.</b></font> Identify the base case in the mylen recursive function below then convert the function into an iterative version.\n",
    "<code>\n",
    "def mylen(p, n):\n",
    "    if p == []: return n\n",
    "    else: return mylen(p[1:], n+1)\n",
    "</code>"
   ]
  },
  {
   "cell_type": "code",
   "execution_count": 60,
   "metadata": {},
   "outputs": [
    {
     "name": "stdout",
     "output_type": "stream",
     "text": [
      "10\n"
     ]
    }
   ],
   "source": [
    "chaffinch = [x for x in range(10, 20)]\n",
    "\n",
    "def mylen(p, n):\n",
    "    if p == []:    # this is the base case\n",
    "        return n             \n",
    "    else:\n",
    "        return mylen(p[1:], n+1)   # this is the recursive case, where function calls itself\n",
    "    \n",
    "villowfinch = mylen(chaffinch, 0)\n",
    "print(villowfinch)"
   ]
  },
  {
   "cell_type": "code",
   "execution_count": 59,
   "metadata": {},
   "outputs": [
    {
     "name": "stdout",
     "output_type": "stream",
     "text": [
      "10\n"
     ]
    }
   ],
   "source": [
    "chaffinch = [x for x in range(10, 20)]\n",
    "\n",
    "def mylen_iteratively(lst):\n",
    "    '''\n",
    "    Find the length of given list and return it.\n",
    "    \n",
    "    Keyword Arguments:\n",
    "        lst: list to find the length of.\n",
    "        \n",
    "    Return:\n",
    "        lenght (int): lenght of the list.\n",
    "    '''\n",
    "    length = 0\n",
    "    if type(lst) == list:\n",
    "        for element in lst:\n",
    "            length += 1\n",
    "        return length\n",
    "    else:\n",
    "        return f'{lst} must be a list!'\n",
    "\n",
    "villowfinch = mylen_iteratively(chaffinch)\n",
    "print(villowfinch)"
   ]
  },
  {
   "cell_type": "markdown",
   "metadata": {},
   "source": [
    "#### <font color=\"red\"><b>2.</b></font> Convert the following iterative (non-recursive) functions into the equivalent recursive functions.\n",
    "<code>\n",
    "def sum_even(n):\n",
    "    total = 0\n",
    "    for i in range(2, n+1, 2):\n",
    "        total += i\n",
    "    return total\n",
    "\n",
    "def min(t):\n",
    "    m = 0\n",
    "    for i in t:\n",
    "        if i < m: m = i\n",
    "    return m\n",
    "</code>\n",
    "<b><i>Hint: You may find it necessary to add an extra parameter for the recursive version.</i></b>"
   ]
  },
  {
   "cell_type": "code",
   "execution_count": 210,
   "metadata": {},
   "outputs": [
    {
     "data": {
      "text/plain": [
       "2550"
      ]
     },
     "execution_count": 210,
     "metadata": {},
     "output_type": "execute_result"
    }
   ],
   "source": [
    "def sum_even_recursively(n, total=0):\n",
    "    '''\n",
    "    Sum all the even numbers from 0-n and return.\n",
    "    \n",
    "    Keyword Arguments:\n",
    "        n (required): The number to add the total up to.\n",
    "        total (optional): The sum of all the even numbers from 0-n, initialised to 0.\n",
    "        \n",
    "    Returns:\n",
    "        total: The sum of all the even numbers from 0-n.\n",
    "    '''\n",
    "    if n < 0:\n",
    "        return 'Please try a positve number!'\n",
    "    elif n == 1 or n == 0:\n",
    "        return total\n",
    "    elif n % 2 != 0:\n",
    "        return sum_even_recursively(n - 1, total)\n",
    "    else:\n",
    "        return sum_even_recursively(n - 2, total + n)\n",
    "    \n",
    "marsh_tit = sum_even_recursively(100)\n",
    "marsh_tit"
   ]
  },
  {
   "cell_type": "code",
   "execution_count": 234,
   "metadata": {},
   "outputs": [
    {
     "data": {
      "text/plain": [
       "-18"
      ]
     },
     "execution_count": 234,
     "metadata": {},
     "output_type": "execute_result"
    }
   ],
   "source": [
    "marsh_tit = [12, 13, 1, -12, -18, 21]\n",
    "willow_tit = [12, 13, 13, 15, 12]\n",
    "\n",
    "def min(t):\n",
    "    m = 0\n",
    "    for i in t:\n",
    "        if i < m: m = i\n",
    "    return m\n",
    "\n",
    "marsh = min(marsh_tit)\n",
    "bearded_tit = min(willow_tit)\n",
    "\n",
    "marsh\n",
    "#bearded_tit\n",
    "\n",
    "# this function find the smallest negative number in the list and returns it\n",
    "# if there is no negative number in the list then returns zero."
   ]
  },
  {
   "cell_type": "code",
   "execution_count": 238,
   "metadata": {},
   "outputs": [
    {
     "data": {
      "text/plain": [
       "-18"
      ]
     },
     "execution_count": 238,
     "metadata": {},
     "output_type": "execute_result"
    }
   ],
   "source": [
    "marsh_tit = [12, 13, 1, -12, -18, 21]\n",
    "willow_tit = [12, 13, 13, 15, 12]\n",
    "\n",
    "def min_recursively(iterable, min_element=0):\n",
    "    '''\n",
    "    Find the smallest negative integer in a iterable and return it.\n",
    "    \n",
    "    Keyword Arguments:\n",
    "        iterable (required): An iterable object to iterate over.\n",
    "        min_element (optional): The smallest negative integer in iterable, initialised to 0.\n",
    "        \n",
    "    Returns:\n",
    "        min_element: The smallest negative integer in iterable.\n",
    "    '''\n",
    "    if iterable == []:\n",
    "        return min_element\n",
    "    elif iterable[0] < min_element:\n",
    "        return min_recursively(iterable[1:], iterable[0])\n",
    "    else:\n",
    "        return min_recursively(iterable[1:], min_element)\n",
    "\n",
    "bearded_tit = min_recursively(willow_tit)\n",
    "marsh = min_recursively(marsh_tit)\n",
    "\n",
    "#bearded_tit\n",
    "marsh"
   ]
  },
  {
   "cell_type": "markdown",
   "metadata": {},
   "source": [
    "#### <font color=\"red\"><b>3.</b></font> Consider a function:<br><br>  $ f(n) = \\begin{equation} \\left\\{ \\begin{array} \\text{1,} \\mathrm{if n=1} \\\\ \\text{2.} f(n-1)+1, \\mathrm{if n>1} \\end{array} \\right. \\end{equation} $\n",
    "<b>What is</b> $ f(5) $ ?<br> \n",
    "<b>Write the equivalent python function and confirm your answer.</b>"
   ]
  },
  {
   "cell_type": "code",
   "execution_count": null,
   "metadata": {},
   "outputs": [],
   "source": [
    "f(5) = ?\n",
    "\n",
    "f(5) = 2 * f(5 - 1) + 1\n",
    "f(4) = 2 * f(4 - 1) + 1\n",
    "f(3) = 2 * f(3 - 1) + 1\n",
    "f(2) = 2 * f(2 - 1) + 1\n",
    "f(1) = 1\n",
    "\n",
    "\n",
    "f(1) = 1\n",
    "f(2) = 2 * (1) + 1 = 3\n",
    "f(3) = 2 * (3) + 1 = 7\n",
    "f(4) = 2 * (7) + 1 = 15\n",
    "f(5) = 2 * (15) + 1 = 31\n",
    "\n",
    "therefore\n",
    "f(5) = 31"
   ]
  },
  {
   "cell_type": "code",
   "execution_count": 260,
   "metadata": {},
   "outputs": [
    {
     "name": "stdout",
     "output_type": "stream",
     "text": [
      "31\n"
     ]
    }
   ],
   "source": [
    "def f(n):\n",
    "    if n <= 0:\n",
    "        return 'must be a positive integer!'\n",
    "    elif n == 1:\n",
    "        return 1\n",
    "    else:\n",
    "        return 2 * f(n-1) + 1\n",
    "\n",
    "greenfinch = f(5)\n",
    "print(greenfinch)\n",
    "    "
   ]
  },
  {
   "cell_type": "markdown",
   "metadata": {},
   "source": [
    "#### <font color=\"red\"><b>4.</b></font> A function operating on positive integers is described by:<br><br> $ f(n) = \\begin{equation} \\left\\{ \\begin{array} \\text{1,} \\mathrm{if n=1} \\\\ f(n-1)+2, \\mathrm{if n>1} \\end{array} \\right. \\end{equation} $\n",
    "\n",
    "<b>Redefine the function above into a simple non-recursive formula.</b>\n"
   ]
  },
  {
   "cell_type": "code",
   "execution_count": 289,
   "metadata": {},
   "outputs": [
    {
     "name": "stdout",
     "output_type": "stream",
     "text": [
      "9\n"
     ]
    }
   ],
   "source": [
    "# question 4 solution - recursive\n",
    "def goldcrest(n):\n",
    "    if n <= 0:\n",
    "        return 'Please try with a positive integer!'\n",
    "    elif n == 1:\n",
    "        return 1\n",
    "    else:\n",
    "        return goldcrest(n-1) + 2\n",
    "\n",
    "wood_warbler = goldcrest(5)\n",
    "print(wood_warbler)"
   ]
  },
  {
   "cell_type": "code",
   "execution_count": 283,
   "metadata": {},
   "outputs": [
    {
     "name": "stdout",
     "output_type": "stream",
     "text": [
      "The total is: 9\n"
     ]
    }
   ],
   "source": [
    "# question 4 solution - iterative\n",
    "def firecrest(n):\n",
    "    '''\n",
    "    Given an integer n, add 2 to all the integers up to n, except one, if it's one just return\n",
    "    one, add the total and return.\n",
    "    \n",
    "    Keyword Arguments:\n",
    "        n (required): a Positive integer.\n",
    "        \n",
    "    Returns:\n",
    "        total (int): returns the total of the sequence.\n",
    "    '''\n",
    "    total = 0\n",
    "    if n <= 0:\n",
    "        return 'Please eneter a positive number'\n",
    "    else:\n",
    "        for x in range(1, n + 1):\n",
    "            if x == 1:\n",
    "                total += 1\n",
    "            else:\n",
    "                total += 2\n",
    "        return f'The total is: {total}'\n",
    "\n",
    "wood_warbler = firecrest(5)\n",
    "print(wood_warbler)"
   ]
  },
  {
   "cell_type": "markdown",
   "metadata": {},
   "source": [
    "#### <font color=\"red\"><b>5.</b></font> Convert the following recursive functions into iterative functions.\n",
    "<code>\n",
    "def max(k, n):\n",
    "    if k == []: return n\n",
    "    elif k[0] > n: return max(k[1:], k[0])\n",
    "    else: return max(k[1:], n)\n",
    "\n",
    "def sum_odd(n, total):\n",
    "    if n == 1: return total\n",
    "    elif n % 2 == 0: return sum_odd(n – 1, total)\n",
    "    else: return sum_odd(n – 2, total + n)\n",
    "</code>\n",
    "<b><i>Hint: You may find it necessary to reduce the number of parameters for the iterative version.</i></b>"
   ]
  },
  {
   "cell_type": "code",
   "execution_count": 239,
   "metadata": {},
   "outputs": [
    {
     "data": {
      "text/plain": [
       "20"
      ]
     },
     "execution_count": 239,
     "metadata": {},
     "output_type": "execute_result"
    }
   ],
   "source": [
    "blue_tit = [x for x in range(12, 21)]\n",
    "\n",
    "def max_iterative(lst):\n",
    "    '''\n",
    "    Find the largest number in the list and return.\n",
    "    \n",
    "    Keyword Arguments:\n",
    "         lst: list to iterate over.\n",
    "    \n",
    "    Return:\n",
    "        max_value: the largest number in the list.\n",
    "    '''\n",
    "    max_element = 0\n",
    "    for x in lst:\n",
    "        if x > max_element:\n",
    "            max_element = x\n",
    "    return max_element\n",
    "\n",
    "coal_tit = max_iterative(blue_tit)\n",
    "coal_tit\n"
   ]
  },
  {
   "cell_type": "code",
   "execution_count": 240,
   "metadata": {},
   "outputs": [
    {
     "data": {
      "text/plain": [
       "9"
      ]
     },
     "execution_count": 240,
     "metadata": {},
     "output_type": "execute_result"
    }
   ],
   "source": [
    "def sum_odd_iteratively(n):\n",
    "    '''\n",
    "    Add all the odd numbers between 1-n and return.\n",
    "    \n",
    "    Keyword Argument:\n",
    "        n: any positive ingeter.\n",
    "    \n",
    "    Return:\n",
    "        total: sum of all the odd numbers between 1-n.\n",
    "    '''\n",
    "    total = 0\n",
    "    for x in range(1, n + 1):\n",
    "        if x % 2 != 0:\n",
    "            total += x\n",
    "    return total\n",
    "\n",
    "great_tit = sum_odd_iteratively(6)\n",
    "great_tit"
   ]
  },
  {
   "cell_type": "markdown",
   "metadata": {},
   "source": [
    "#### <font color=\"red\"><b>6.</b></font> Define $ f(n) = 2^n $  recursively, in terms of $ f(n-1) $, for all integers. Write a Python program to implement your solution."
   ]
  },
  {
   "cell_type": "code",
   "execution_count": 297,
   "metadata": {},
   "outputs": [
    {
     "data": {
      "text/plain": [
       "32"
      ]
     },
     "execution_count": 297,
     "metadata": {},
     "output_type": "execute_result"
    }
   ],
   "source": [
    "def power_two(n):\n",
    "    '''\n",
    "    Given n, riase 2 to the power of n and return it.\n",
    "    \n",
    "    Keyword Arguments:\n",
    "        n (required): An integer for 2 be raised to.\n",
    "    \n",
    "    Returns:\n",
    "        2 ** n\n",
    "    '''\n",
    "    if n == 0:\n",
    "        return 1\n",
    "    elif n < 0:\n",
    "        power_two(n + 1)\n",
    "        return 2 ** n\n",
    "    else:\n",
    "        power_two(n - 1)\n",
    "        return 2** n\n",
    "        \n",
    "    \n",
    "power_two(5)\n"
   ]
  },
  {
   "cell_type": "markdown",
   "metadata": {},
   "source": [
    "#### <font color=\"red\"><b>7.</b></font> Ackermann's function is defined as:<br><br> $ A(m, n) = \\begin{equation} \\left\\{ \\begin{array} \\text{n + 1,} \\text{  if m=0} \\\\ A(m \\text{-1,1}), \\text{ if m>0 and n=0} \\\\ A(m \\text{-1,}A(m,n \\text{-1})), \\text{  if m>0 and n> 0}  \\end{array} \\right. \\end{equation} $\n",
    "<b>Write a recursive Python function to implement Ackermann's function. How many recursive calls will be required to evaluate <font color=\"red\"><i>A(2,3)</i></font>?</b> <b><i>Hint: You may need to use a <font color=\"blue\">trace table</font> to calculate the calls</i></b>"
   ]
  },
  {
   "cell_type": "code",
   "execution_count": 301,
   "metadata": {},
   "outputs": [
    {
     "name": "stdout",
     "output_type": "stream",
     "text": [
      "9\n"
     ]
    }
   ],
   "source": [
    "def ack(m, n):\n",
    "    calls = 0\n",
    "    if m == 0:   # the first base case, when the m is zero\n",
    "        return n + 1\n",
    "    elif m > 0 and n == 0: # 2nd base case when m > 0 and n == 0\n",
    "        return ack(m-1, 1)\n",
    "    else:\n",
    "        return ack(m-1, ack(m, n-1))\n",
    "        \n",
    "white_tale_eagle = ack(2, 3)\n",
    "print(white_tale_eagle)"
   ]
  },
  {
   "cell_type": "markdown",
   "metadata": {},
   "source": [
    "<b>... and the number of calls?</b>"
   ]
  },
  {
   "cell_type": "code",
   "execution_count": null,
   "metadata": {},
   "outputs": [],
   "source": [
    "44 calls, maybe!!!"
   ]
  },
  {
   "cell_type": "markdown",
   "metadata": {},
   "source": [
    "#### <font color=\"red\"><b>8.</b></font> Create a recursive function <i>intToBin(n)</i> that takes a non-negative integer and returns a string of its binary digits.  For example, intToBin(6) returns '110'. <i>Hint: implement two base cases: n == 0 and n == 1: as they cover the situations when n has only one binary digit.</i>"
   ]
  },
  {
   "cell_type": "code",
   "execution_count": 360,
   "metadata": {},
   "outputs": [
    {
     "name": "stdout",
     "output_type": "stream",
     "text": [
      "100"
     ]
    }
   ],
   "source": [
    "def intToBin(num):\n",
    "    '''\n",
    "    Given an decimal positive integer, this function will print the bianry representation.\n",
    "    \n",
    "    Keyword Arguments:\n",
    "        num (require): positive integer to convert to binary.\n",
    "        \n",
    "    Prints:\n",
    "        binary representation of num.\n",
    "        \n",
    "    '''\n",
    "    if num == 0:\n",
    "        return '0'\n",
    "    elif num >= 1:\n",
    "        intToBin(num // 2)\n",
    "        print(str(num % 2), end='')\n",
    "    \n",
    "intToBin(4)"
   ]
  },
  {
   "cell_type": "markdown",
   "metadata": {},
   "source": [
    "### Downloading your workbook"
   ]
  },
  {
   "cell_type": "markdown",
   "metadata": {},
   "source": [
    "Please note even if you are running Jupyter on your computer (ie. not on a network) the Jupyter notebook runs as a server, so you are editing and running a file that is not easily accessed on your filing system. So to obtain your workbook (to use on a different computer or upload as an assignment, etc.) it must be downloaded to your file system. To do this..."
   ]
  },
  {
   "cell_type": "markdown",
   "metadata": {},
   "source": [
    "<div class=\"alert alert-block alert-info\">Goto the <b>\"File\"</b> menu and select the <b>\"Download as\"</b> item. You can then select <b>\"notebook (ipynb)\"</b> to download.</div>"
   ]
  }
 ],
 "metadata": {
  "kernelspec": {
   "display_name": "Python 3",
   "language": "python",
   "name": "python3"
  },
  "language_info": {
   "codemirror_mode": {
    "name": "ipython",
    "version": 3
   },
   "file_extension": ".py",
   "mimetype": "text/x-python",
   "name": "python",
   "nbconvert_exporter": "python",
   "pygments_lexer": "ipython3",
   "version": "3.8.5"
  }
 },
 "nbformat": 4,
 "nbformat_minor": 2
}
