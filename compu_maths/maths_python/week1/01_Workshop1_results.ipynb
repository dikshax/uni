{
 "cells": [
  {
   "cell_type": "markdown",
   "metadata": {},
   "source": [
    "## Python Workshop 1 Exercises"
   ]
  },
  {
   "cell_type": "markdown",
   "metadata": {},
   "source": [
    "<div class=\"alert alert-block alert-info\">\n",
    "<font color=\"black\">Suppose we don’t know the formula for the sum and want to use a “brute force” approach.  We can calculate the sum <i>1 + 2 + ... + n</i>  using a loop:</font> </div>"
   ]
  },
  {
   "cell_type": "markdown",
   "metadata": {},
   "source": [
    "<code>sum1n = 0\n",
    "i = 1\n",
    "while i <= n:\n",
    "    sum1n += i  # same as sum1n = sum1n + i\n",
    "    i += 1 </code>"
   ]
  },
  {
   "cell_type": "markdown",
   "metadata": {},
   "source": [
    "<div class=\"alert alert-block alert-info\"><font color=\"black\">This loop can also be nested within another loop to calculate a series of numbers:</font></div>"
   ]
  },
  {
   "cell_type": "markdown",
   "metadata": {},
   "source": [
    "<code>## Sums1toN program\n",
    "nMax = 10\n",
    "n = 1\n",
    "while n <= nMax:\n",
    "    sum1n = 0\n",
    "    i = 1\n",
    "    while i <= n:\n",
    "        sum1n += i\n",
    "        i += 1\n",
    "    print('{0:3d} {1:6d}'.format(n, sum1n))\n",
    "    n += 1 </code>"
   ]
  },
  {
   "cell_type": "markdown",
   "metadata": {},
   "source": [
    "<div class=\"alert alert-block alert-info\"><font color=\"black\">Type in the little program above into the cell below.  To run it select the cell and then press the <b>run-button</b> from the button bar above. Test the program and ensure it runs correctly.</font></div>"
   ]
  },
  {
   "cell_type": "code",
   "execution_count": null,
   "metadata": {},
   "outputs": [],
   "source": [
    "nMax = 10\n",
    "n = 1\n",
    "while n <= nMax:\n",
    "    sum1n = 0\n",
    "    i = 1\n",
    "    while i <= n:\n",
    "        sum1n += i\n",
    "        i += 1\n",
    "    print('{0:3d} {1:6d}'.format(n, sum1n))\n",
    "    n += 1 "
   ]
  },
  {
   "cell_type": "markdown",
   "metadata": {},
   "source": [
    "<div class=\"alert alert-block alert-danger\">\n",
    "Now try to write the Python code to answer the following questions in the cells below \n",
    "</div>"
   ]
  },
  {
   "cell_type": "markdown",
   "metadata": {},
   "source": [
    "#### <font color=\"red\"><b>1.</b></font> Modify the Sums1toN.py program to accept only an odd positive integer nMax from the user and print the sums of positive odd integers for *n = 1, 3, ..., nMax.*"
   ]
  },
  {
   "cell_type": "code",
   "execution_count": 1,
   "metadata": {},
   "outputs": [
    {
     "name": "stdout",
     "output_type": "stream",
     "text": [
      "Please enter an odd integer 7\n",
      "  1      1\n",
      "  3      6\n",
      "  5     15\n",
      "  7     28\n"
     ]
    }
   ],
   "source": [
    "nMax = input(\"Please enter an odd integer \")\n",
    "nMax = int(nMax)  # -- convert it from a string to integer\n",
    "n = 1\n",
    "while n <= nMax:\n",
    "    sum1n = 0\n",
    "    i = 1\n",
    "    while i <= n:\n",
    "        sum1n += i\n",
    "        i += 1  \n",
    "    print('{0:3d} {1:6d}'.format(n, sum1n))\n",
    "    n += 2       # -- ensure all odds, ie 1,3,5,7.. etc"
   ]
  },
  {
   "cell_type": "markdown",
   "metadata": {},
   "source": [
    "#### <font color=\"red\"><b>2.</b></font> Write a program that prompts the user for a positive integer n and prints all positive multiples of 6 *ie. (6, 12, 18, etc.)* that do not exceed n."
   ]
  },
  {
   "cell_type": "code",
   "execution_count": 1,
   "metadata": {},
   "outputs": [
    {
     "name": "stdout",
     "output_type": "stream",
     "text": [
      "Please enter an +ve integer 35\n",
      "  0\n",
      "  6\n",
      " 12\n",
      " 18\n",
      " 24\n",
      " 30\n"
     ]
    }
   ],
   "source": [
    "nMax = input(\"Please enter an +ve integer \")\n",
    "nMax = int(nMax)  # -- convert it from a string to integer\n",
    "n = 0\n",
    "while n <= nMax:\n",
    "    print('{0:3d}'.format(n))\n",
    "    n += 6"
   ]
  },
  {
   "cell_type": "markdown",
   "metadata": {},
   "source": [
    "#### <font color=\"red\"><b>3.</b></font> Using Sums1toN.py as a prototype, write a program that prompts the user to enter a positive integer nMax and displays n and n! (n-factorial) for n from 1 to nMax.   .  "
   ]
  },
  {
   "cell_type": "code",
   "execution_count": 2,
   "metadata": {},
   "outputs": [
    {
     "name": "stdout",
     "output_type": "stream",
     "text": [
      "Please enter top factorial 8\n",
      "  0!      1\n",
      "  1!      1\n",
      "  2!      2\n",
      "  3!      6\n",
      "  4!     24\n",
      "  5!    120\n",
      "  6!    720\n",
      "  7!   5040\n",
      "  8!  40320\n"
     ]
    }
   ],
   "source": [
    "nMax = input(\"Please enter top factorial \")\n",
    "nMax = int(nMax)  # -- convert it from a string to integer\n",
    "n = 0\n",
    "while n <= nMax:\n",
    "    sum1n = 1     # -- this holds the factorial\n",
    "    i = 1\n",
    "    while i <= n:\n",
    "        sum1n *= i\n",
    "        i += 1\n",
    "    print('{0:3d}! {1:6d}'.format(n, sum1n))\n",
    "    n += 1"
   ]
  },
  {
   "cell_type": "markdown",
   "metadata": {},
   "source": [
    "<div class=\"alert alert-block alert-danger\"><b>Note:</b> most of the programs for this module do not require you to use the <i>input</i> statement to load data into your code. To avoid loosing marks (for over use of the input statement) You should only use input statements where the question includes the phrases like <font color=\"red\"><i>\"prompts the user..\"</i></font>, <font color=\"red\"><i>\"from the user..\"</i></font> or <font color=\"red\"><i>\"ask the user..\"</i></font>. <b>ie. for questions 4,5 & 6 hard code the data in the program</b></div>"
   ]
  },
  {
   "cell_type": "markdown",
   "metadata": {},
   "source": [
    "#### <font color=\"red\"><b>4.</b></font> Write a program that prints n, $ s_{1}(n)=\\sum \\limits _{k=1} ^{n} k $ , $ s_{2}(n)=\\sum \\limits _{k=1} ^{n} k ^{2} $ , and  $ \\frac{3s_{2}(n)}{s_{1}(n)} $ for n = 1, 2, 3, ..., 20.  Try to guess the general formula for  $ \\sum \\limits _{k=1} ^{n} k ^{2} $ from the resulting table."
   ]
  },
  {
   "cell_type": "code",
   "execution_count": 3,
   "metadata": {},
   "outputs": [
    {
     "name": "stdout",
     "output_type": "stream",
     "text": [
      "  1      1      1      3\n",
      "  2      3      5      5\n",
      "  3      6     14      7\n",
      "  4     10     30      9\n",
      "  5     15     55     11\n",
      "  6     21     91     13\n",
      "  7     28    140     15\n",
      "  8     36    204     17\n",
      "  9     45    285     19\n",
      " 10     55    385     21\n",
      " 11     66    506     23\n",
      " 12     78    650     25\n",
      " 13     91    819     27\n",
      " 14    105   1015     29\n",
      " 15    120   1240     31\n",
      " 16    136   1496     33\n",
      " 17    153   1785     35\n",
      " 18    171   2109     37\n",
      " 19    190   2470     39\n",
      " 20    210   2870     41\n",
      " 21    231   3311     43\n"
     ]
    }
   ],
   "source": [
    "nMax = 21\n",
    "n = 1\n",
    "while n <= nMax:\n",
    "    s1 = 0\n",
    "    k = 1\n",
    "    while k <= n:\n",
    "        s1 += k\n",
    "        k += 1\n",
    "    s2 = 0\n",
    "    k = 1\n",
    "    while k <= n:\n",
    "        s2 += k**2\n",
    "        k += 1\n",
    "    s3 = 3*s2//s1  # -- // is the integer divide\n",
    "    print('{0:3d} {1:6d} {2:6d} {3:6d}'.format(n, s1, s2, s3))\n",
    "    n += 1"
   ]
  },
  {
   "cell_type": "code",
   "execution_count": null,
   "metadata": {},
   "outputs": [],
   "source": [
    "# ... or a more efficient version\n",
    "nMax = 21\n",
    "n = 1\n",
    "while n <= nMax:\n",
    "    s1 = 0\n",
    "    s2 = 0\n",
    "    k = 1\n",
    "    while k <= n:\n",
    "        s1 += k\n",
    "        s2 += k**2\n",
    "        k += 1\n",
    "    s3 = 3*s2//s1  # -- // is the integer divide\n",
    "    print('{0:3d} {1:6d} {2:6d} {3:6d}'.format(n, s1, s2, s3))\n",
    "    n += 1"
   ]
  },
  {
   "cell_type": "markdown",
   "metadata": {},
   "source": [
    "#### <font color=\"red\"><b>5.</b></font> Write a function printSquare(n) that displays a “square” whose side has n stars.  For example, for n = 5, the output should be: "
   ]
  },
  {
   "cell_type": "markdown",
   "metadata": {},
   "source": [
    "`*****`<br>\n",
    "`*   *`<br>\n",
    "`*   *`<br>\n",
    "`*   *`<br>\n",
    "`*****`<br>"
   ]
  },
  {
   "cell_type": "markdown",
   "metadata": {},
   "source": [
    "##### Use only one while loop.  (Actually, in Python, you can write this function without any loops, on one line.  Can you figure out how?) "
   ]
  },
  {
   "cell_type": "code",
   "execution_count": 4,
   "metadata": {},
   "outputs": [
    {
     "name": "stdout",
     "output_type": "stream",
     "text": [
      "*****\n",
      "*   *\n",
      "*   *\n",
      "*   *\n",
      "*****\n"
     ]
    }
   ],
   "source": [
    "def printSquare(n):\n",
    "    i = 0\n",
    "    print('*'*n)\n",
    "    while i < n-2:\n",
    "        print('*'+(' '*(n-2))+'*')\n",
    "        i += 1\n",
    "    print('*'*n)\n",
    "\n",
    "printSquare(5)"
   ]
  },
  {
   "cell_type": "code",
   "execution_count": null,
   "metadata": {},
   "outputs": [],
   "source": [
    "# without loops -- mainly for neardy interest!!\n",
    "def printSquare(n):\n",
    "    print(('*'*n)+'\\n'+(('*'+(' '*(n-2))+'*\\n')*(n-2))+('*'*n))\n",
    "\n",
    "printSquare(5)"
   ]
  },
  {
   "cell_type": "markdown",
   "metadata": {},
   "source": [
    "#### <font color=\"red\"><b>6.</b></font> Write a function <i>myPow(x, n)</i> that returns $x ^{n}$, where   and n is a non-negative integer.  Do not use the ** operator or the math.pow function — use one <i>while</i> loop.  Hint:  $ x ^{0} = 1 $.  "
   ]
  },
  {
   "cell_type": "code",
   "execution_count": 5,
   "metadata": {},
   "outputs": [
    {
     "data": {
      "text/plain": [
       "8"
      ]
     },
     "execution_count": 5,
     "metadata": {},
     "output_type": "execute_result"
    }
   ],
   "source": [
    "def myPow(x, n):\n",
    "    res = 1\n",
    "    count = 0\n",
    "    while count < n:\n",
    "        res *= x\n",
    "        count += 1\n",
    "    return res\n",
    "\n",
    "myPow(2, 3)"
   ]
  },
  {
   "cell_type": "code",
   "execution_count": null,
   "metadata": {},
   "outputs": [],
   "source": [
    "# or a for-loop version to reduce lines/noise/faff\n",
    "def myPow(x, n):\n",
    "    res = 1\n",
    "    for count in range(n):\n",
    "        res *= x\n",
    "    return res\n",
    "\n",
    "myPow(4, 2)"
   ]
  },
  {
   "cell_type": "markdown",
   "metadata": {},
   "source": [
    "### Downloading your workbook"
   ]
  },
  {
   "cell_type": "markdown",
   "metadata": {},
   "source": [
    "Please note even if you are Jupyter on your computer (ie. not on a network) the Jupyter notebook runs as a server, so you are not running and editing a file on your filing system. So to obtain your workbook (to use on a different computer or upload as an assignment, etc.) it must be downloaded to your file system. To do this...  "
   ]
  },
  {
   "cell_type": "markdown",
   "metadata": {},
   "source": [
    "<div class=\"alert alert-block alert-info\">Goto the <b>\"File\"</b> menu and select the <b>\"Download as\"</b> item. You can then select <b>\"notebook (ipynb)\"</b> to download.</div>"
   ]
  }
 ],
 "metadata": {
  "kernelspec": {
   "display_name": "Python 3",
   "language": "python",
   "name": "python3"
  },
  "language_info": {
   "codemirror_mode": {
    "name": "ipython",
    "version": 3
   },
   "file_extension": ".py",
   "mimetype": "text/x-python",
   "name": "python",
   "nbconvert_exporter": "python",
   "pygments_lexer": "ipython3",
   "version": "3.9.2"
  }
 },
 "nbformat": 4,
 "nbformat_minor": 2
}
