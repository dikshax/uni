{
 "cells": [
  {
   "cell_type": "code",
   "execution_count": 1,
   "id": "acceptable-punishment",
   "metadata": {},
   "outputs": [
    {
     "name": "stdout",
     "output_type": "stream",
     "text": [
      "this is x: 0 and this is z: 0\n",
      "this is x: 0 and this is z: 1\n",
      "this is x: 0 and this is z: 2\n",
      "this is x: 0 and this is z: 3\n",
      "this is x: 1 and this is z: 0\n",
      "this is x: 1 and this is z: 1\n",
      "this is x: 1 and this is z: 2\n",
      "this is x: 1 and this is z: 3\n",
      "this is x: 2 and this is z: 0\n",
      "this is x: 2 and this is z: 1\n",
      "this is x: 2 and this is z: 2\n",
      "this is x: 2 and this is z: 3\n",
      "this is x: 3 and this is z: 0\n",
      "this is x: 3 and this is z: 1\n",
      "this is x: 3 and this is z: 2\n",
      "this is x: 3 and this is z: 3\n"
     ]
    }
   ],
   "source": [
    "# print 0-3 three times using nested loops\n",
    "for x in range(4):\n",
    "    for z in range(4):\n",
    "        print(f'this is x: {x} and this is z: {z}')"
   ]
  },
  {
   "cell_type": "code",
   "execution_count": 20,
   "id": "vulnerable-scheme",
   "metadata": {},
   "outputs": [
    {
     "name": "stdout",
     "output_type": "stream",
     "text": [
      "1\n",
      "11\n",
      "111\n",
      "1111\n",
      "11111\n",
      "111111\n",
      "1111111\n",
      "11111111\n",
      "111111111\n",
      "1111111111\n",
      "11111111111\n",
      "111111111111\n",
      "1111111111111\n",
      "11111111111111\n",
      "111111111111111\n"
     ]
    }
   ],
   "source": [
    "# build a triangle with the numbers between 1-15\n",
    "\n",
    "for x in range(1, 16):\n",
    "    print(x * '1')"
   ]
  },
  {
   "cell_type": "code",
   "execution_count": 22,
   "id": "administrative-vermont",
   "metadata": {},
   "outputs": [
    {
     "name": "stdout",
     "output_type": "stream",
     "text": [
      "###############\n",
      "##############\n",
      "#############\n",
      "############\n",
      "###########\n",
      "##########\n",
      "#########\n",
      "########\n",
      "#######\n",
      "######\n",
      "#####\n",
      "####\n",
      "###\n",
      "##\n",
      "#\n"
     ]
    }
   ],
   "source": [
    "# the same trinagle but upside down\n",
    "for x in range(15, 0, -1):\n",
    "    print(x * '#')"
   ]
  },
  {
   "cell_type": "code",
   "execution_count": 4,
   "id": "hungry-central",
   "metadata": {},
   "outputs": [
    {
     "name": "stdout",
     "output_type": "stream",
     "text": [
      "hammerhead\n",
      "great white\n",
      "dogfish\n",
      "0\n",
      "1\n",
      "2\n",
      "9.9\n",
      "8.8\n",
      "7.7\n"
     ]
    }
   ],
   "source": [
    "nested_list = [['hammerhead', 'great white', 'dogfish'],\n",
    "                [x for x in range(0,3)],\n",
    "               [9.9, 8.8, 7.7]]\n",
    "\n",
    "for x in nested_list:\n",
    "    for z in x:\n",
    "        print(z)"
   ]
  },
  {
   "cell_type": "code",
   "execution_count": 11,
   "id": "horizontal-motivation",
   "metadata": {},
   "outputs": [
    {
     "name": "stdout",
     "output_type": "stream",
     "text": [
      "The determinant of is: -2\n"
     ]
    }
   ],
   "source": [
    "matrix = [[1,2],\n",
    "          [3,4]]\n",
    "# calculate the determinant of the matrix above\n",
    "deter = (matrix[0][0] * matrix[1][1]) - (matrix[0][1] * matrix[1][0])\n",
    "print(f'The determinant of is: {deter}')"
   ]
  },
  {
   "cell_type": "code",
   "execution_count": 26,
   "id": "refined-politics",
   "metadata": {},
   "outputs": [
    {
     "name": "stdout",
     "output_type": "stream",
     "text": [
      "[[2, 3], [4, 5]]\n"
     ]
    }
   ],
   "source": [
    "mtr = [[1, 2],\n",
    "       [3, 4]]\n",
    "# add 1 to each elements of the matrix above\n",
    "for x in range(len(mtr)):\n",
    "    for j in range(len(mtr[x])):\n",
    "        mtr[x][j] += 1\n",
    "print(mtr)"
   ]
  },
  {
   "cell_type": "code",
   "execution_count": 30,
   "id": "superior-overview",
   "metadata": {},
   "outputs": [
    {
     "name": "stdout",
     "output_type": "stream",
     "text": [
      "[1, 2]\n",
      "[3, 4]\n",
      "\n",
      "1\n",
      "3\n",
      "2\n",
      "4\n"
     ]
    }
   ],
   "source": [
    "mtr = [[1, 2],\n",
    "       [3, 4]]\n",
    "\n",
    "for j in mtr:\n",
    "    print(j)\n",
    "print()\n",
    "\n",
    "# transpose the matrix above\n",
    "for x in range(len(mtr)):\n",
    "    for j in mtr:\n",
    "        print(j[x])"
   ]
  },
  {
   "cell_type": "code",
   "execution_count": null,
   "id": "durable-vector",
   "metadata": {},
   "outputs": [],
   "source": []
  }
 ],
 "metadata": {
  "kernelspec": {
   "display_name": "Python 3",
   "language": "python",
   "name": "python3"
  },
  "language_info": {
   "codemirror_mode": {
    "name": "ipython",
    "version": 3
   },
   "file_extension": ".py",
   "mimetype": "text/x-python",
   "name": "python",
   "nbconvert_exporter": "python",
   "pygments_lexer": "ipython3",
   "version": "3.9.2"
  }
 },
 "nbformat": 4,
 "nbformat_minor": 5
}
