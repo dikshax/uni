{
 "cells": [
  {
   "cell_type": "code",
   "execution_count": 6,
   "id": "acceptable-punishment",
   "metadata": {},
   "outputs": [
    {
     "name": "stdout",
     "output_type": "stream",
     "text": [
      "0 0\n",
      "0 1\n",
      "0 2\n",
      "0 3\n",
      "1 0\n",
      "1 1\n",
      "1 2\n",
      "1 3\n",
      "2 0\n",
      "2 1\n",
      "2 2\n",
      "2 3\n",
      "3 0\n",
      "3 1\n",
      "3 2\n",
      "3 3\n"
     ]
    }
   ],
   "source": [
    "# print 0-3 three times using nested loops\n",
    "for x in range(4):\n",
    "    for z in range(4):\n",
    "        print(x, z)"
   ]
  },
  {
   "cell_type": "code",
   "execution_count": 20,
   "id": "vulnerable-scheme",
   "metadata": {},
   "outputs": [
    {
     "name": "stdout",
     "output_type": "stream",
     "text": [
      "1\n",
      "11\n",
      "111\n",
      "1111\n",
      "11111\n",
      "111111\n",
      "1111111\n",
      "11111111\n",
      "111111111\n",
      "1111111111\n",
      "11111111111\n",
      "111111111111\n",
      "1111111111111\n",
      "11111111111111\n",
      "111111111111111\n"
     ]
    }
   ],
   "source": [
    "# build a triangle with the numbers between 1-15\n",
    "\n",
    "for x in range(1, 16):\n",
    "    print(x * '1')"
   ]
  },
  {
   "cell_type": "code",
   "execution_count": 22,
   "id": "administrative-vermont",
   "metadata": {},
   "outputs": [
    {
     "name": "stdout",
     "output_type": "stream",
     "text": [
      "###############\n",
      "##############\n",
      "#############\n",
      "############\n",
      "###########\n",
      "##########\n",
      "#########\n",
      "########\n",
      "#######\n",
      "######\n",
      "#####\n",
      "####\n",
      "###\n",
      "##\n",
      "#\n"
     ]
    }
   ],
   "source": [
    "# the same trinagle but upside down\n",
    "for x in range(15, 0, -1):\n",
    "    print(x * '#')"
   ]
  },
  {
   "cell_type": "code",
   "execution_count": null,
   "id": "hungry-central",
   "metadata": {},
   "outputs": [],
   "source": []
  }
 ],
 "metadata": {
  "kernelspec": {
   "display_name": "Python 3",
   "language": "python",
   "name": "python3"
  },
  "language_info": {
   "codemirror_mode": {
    "name": "ipython",
    "version": 3
   },
   "file_extension": ".py",
   "mimetype": "text/x-python",
   "name": "python",
   "nbconvert_exporter": "python",
   "pygments_lexer": "ipython3",
   "version": "3.9.2"
  }
 },
 "nbformat": 4,
 "nbformat_minor": 5
}
