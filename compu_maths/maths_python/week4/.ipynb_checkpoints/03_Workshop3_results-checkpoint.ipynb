{
 "cells": [
  {
   "cell_type": "markdown",
   "metadata": {},
   "source": [
    "## Python Workshop 3 Exercises"
   ]
  },
  {
   "cell_type": "markdown",
   "metadata": {},
   "source": [
    "<div class=\"alert alert-block alert-info\">Examine and test the example code below, then devise and write your code to answer the 7 questions that follow.</div>"
   ]
  },
  {
   "cell_type": "markdown",
   "metadata": {},
   "source": [
    "#### Lists and indexing in Python"
   ]
  },
  {
   "cell_type": "markdown",
   "metadata": {},
   "source": [
    "Consider a list of numbers:  nums = [90, 80, 70, 60, 50, 40, 30, 20, 10]\n",
    "    \n",
    "|90|80|70|60|50|40|30|20|10|\n",
    "| :-: | :-: | :-: | :-: | :-: | :-: | :-: | :-: | :-: |\n",
    "|<font color=\"blue\">0|<font color=\"blue\">1|<font color=\"blue\">2|<font color=\"blue\">3|<font color=\"blue\">4|<font color=\"blue\">5|<font color=\"blue\">6|<font color=\"blue\">7|<font color=\"blue\">8|\n",
    "|<font color=\"red\">-9|<font color=\"red\">-8|<font color=\"red\">-7|<font color=\"red\">-6|<font color=\"red\">-5|<font color=\"red\">-4|<font color=\"red\">-3|<font color=\"red\">-2|<font color=\"red\">-1|\n",
    "\n",
    "Each character in the list has a notional position called <font color=\"blue\">the index</font>,  \n",
    "to access one of the elements, the name of the list with the index (in square brackets) must be provided E.g:<br>\n",
    "<code>print(nums[<font color=\"blue\">2</font>])    # <font color=\"blue\">index from the front => 70</font></code><br>\n",
    "In Python lists may also be <font color=\"red\">indexed from the back</font> by using a negative number for the index so<br>\n",
    "<code>print(nums[<font color=\"red\">-2</font>])   # <font color=\"red\">index from the back => 20</font></code><br>   \n",
    "\n",
    "Of course where you use a number in a program, you can replace with a variable to produce interesting results  "
   ]
  },
  {
   "cell_type": "markdown",
   "metadata": {},
   "source": [
    "#### Example 1"
   ]
  },
  {
   "cell_type": "markdown",
   "metadata": {},
   "source": [
    "Write a Python function that returns the sum of two given vectors (represented as lists of the same length)."
   ]
  },
  {
   "cell_type": "markdown",
   "metadata": {},
   "source": [
    "#### Solution"
   ]
  },
  {
   "cell_type": "markdown",
   "metadata": {},
   "source": [
    "<code>def sumVectors(x, y):\n",
    "    vect = len(x)*[0]  # create a list of the same length as x, filled with 0s\n",
    "    i = 0\n",
    "    while i < len(x):\n",
    "        vect[i] = x[i] + y[i]\n",
    "        i += 1\n",
    "    return vect</code>"
   ]
  },
  {
   "cell_type": "markdown",
   "metadata": {},
   "source": [
    "Note that we have to create a vector of the required length before we can store the resulting values in it.  Try a call such as sumVectors([1,2,3],[6,5,4]) to test the working of the function."
   ]
  },
  {
   "cell_type": "markdown",
   "metadata": {},
   "source": [
    "#### Example 2"
   ]
  },
  {
   "cell_type": "markdown",
   "metadata": {},
   "source": [
    "Write a Python function that creates and returns a table with a given numbers of rows and columns, filled with None values."
   ]
  },
  {
   "cell_type": "markdown",
   "metadata": {},
   "source": [
    "#### Solution"
   ]
  },
  {
   "cell_type": "markdown",
   "metadata": {},
   "source": [
    "<code>def buildTable(nRows, nCols):\n",
    "    table = []\n",
    "    for r in range(nRows):\n",
    "        table.append(nCols*[None])\n",
    "    return table</code>"
   ]
  },
  {
   "cell_type": "markdown",
   "metadata": {},
   "source": [
    "We start with an empty list of rows table and append a new row to it nRows times.  nCols*[None] creates one row: a list of nCols elements, all set to None. <i>You may want to experiment with the example functions in the space below:</i> "
   ]
  },
  {
   "cell_type": "code",
   "execution_count": null,
   "metadata": {},
   "outputs": [],
   "source": []
  },
  {
   "cell_type": "markdown",
   "metadata": {},
   "source": [
    "<div class=\"alert alert-block alert-danger\">\n",
    "Now try to write the Python code to answer the following questions in the cells below \n",
    "</div>"
   ]
  },
  {
   "cell_type": "markdown",
   "metadata": {},
   "source": [
    "#### <font color=\"red\"><b>1.</b></font>Write and test a function that returns the index of the largest element in the list (or, if several elements have the largest value, the index of the first one of them).  Write your own solution do not use the built-in function max."
   ]
  },
  {
   "cell_type": "code",
   "execution_count": null,
   "metadata": {},
   "outputs": [],
   "source": [
    "def index(lst):\n",
    "    largest = lst[0]\n",
    "    index_ = 0\n",
    "    for i in range(len(lst)):\n",
    "        if lst[i] > largest:\n",
    "            index_ = i\n",
    "            largest = lst[i]\n",
    "    return index_"
   ]
  },
  {
   "cell_type": "code",
   "execution_count": null,
   "metadata": {},
   "outputs": [],
   "source": [
    "def index(lst):\n",
    "    largest = lst[0]\n",
    "    index_ = 0\n",
    "    for i, val in enumerate(lst):\n",
    "        if val > largest:\n",
    "            index_ = i\n",
    "            largest = val\n",
    "    return index_"
   ]
  },
  {
   "cell_type": "markdown",
   "metadata": {},
   "source": [
    "#### <font color=\"red\"><b>2.</b></font> Write a python script (ie. does not need to be a function) that swaps the values of three variables x, y, and z, so by the end x gets the value of y, y has the value of z, and z gets the value that was in x.  <i>Note: the swapping can be done is a single line of code if you use good pythonic design.</i>"
   ]
  },
  {
   "cell_type": "code",
   "execution_count": null,
   "metadata": {},
   "outputs": [],
   "source": [
    "x = 1; y = 2; z = 3\n",
    "print(\"before - x = {}, y = {}, z = {}\".format(x, y, z))\n",
    "x, y, z = y, z, x    ## Swapping done here\n",
    "print(\"after  - x = {}, y = {}, z = {}\".format(x, y, z))"
   ]
  },
  {
   "cell_type": "markdown",
   "metadata": {},
   "source": [
    "#### <font color=\"red\"><b>3.</b></font> Pretend that list’s reverse method does not exist and write your own function reverseList(lst) that reverses the list in place and returns a None.  <i>Hints: proceed from both ends, but not too far..., the swapping (from Q2) should be useful and no need for a return statement.</i>"
   ]
  },
  {
   "cell_type": "code",
   "execution_count": null,
   "metadata": {},
   "outputs": [],
   "source": [
    "def reverseList(lst):\n",
    "    for i in range(len(lst)//2):\n",
    "        lst[i], lst[-1-i] = lst[-1-i], lst[i]"
   ]
  },
  {
   "cell_type": "markdown",
   "metadata": {},
   "source": [
    "#### <font color=\"red\"><b>4.</b></font> Write and test a function that takes a list with four or more elements and returns the index of the element that makes the greatest sum with its left and right neighbors. <i>Hint: a good solution here might be similar to your answer to Q1</i>."
   ]
  },
  {
   "cell_type": "code",
   "execution_count": null,
   "metadata": {},
   "outputs": [],
   "source": [
    "def neighbors(lst):\n",
    "    largest = lst[0]\n",
    "    index_ = 0\n",
    "    for i in range(1, len(lst)-1):\n",
    "        if lst[i-1]+lst[i]+lst[i+1] > largest:\n",
    "            largest = lst[i-1]+lst[i]+lst[i+1]\n",
    "            index_ = i\n",
    "    return index_\n"
   ]
  },
  {
   "cell_type": "markdown",
   "metadata": {},
   "source": [
    "#### <font color=\"red\"><b>5.</b></font>  Write a function called intersection that takes 2 lists of integers and returns a third list values that occur in both lists ie. <i>intersection([2, 3, 4], [1, 2, 5])</i> should return [2]. Write your solution in pure Python to show the logic in your solution, do not use any library functions.¶"
   ]
  },
  {
   "cell_type": "code",
   "execution_count": null,
   "metadata": {},
   "outputs": [],
   "source": [
    "def intersection(l1, l2):\n",
    "    res = []\n",
    "    for item in l1:\n",
    "        if item in l2:\n",
    "            res.append(item)\n",
    "    return res"
   ]
  },
  {
   "cell_type": "markdown",
   "metadata": {},
   "source": [
    "#### <font color=\"red\"><b>6.</b></font> Let  $ \\bar{x} = (x_{1},x_{2}...x_{n}) $  and $ \\bar{y} = (y_{1},y_{2}...y_{n}) $ be two n dimensional vectors.  Their <i>dot product</i>, denoted  $ \\bar{x}.\\bar{y} $  , is defined as  $ \\bar{x}.\\bar{y} = x_{1}y_{1}+x_{2}y_{2}+x_{3}y_{3}+...+x_{n}y_{n} $  .  Write and test a Python function that returns the dot product of two given vectors (represented as lists of the same length). "
   ]
  },
  {
   "cell_type": "code",
   "execution_count": null,
   "metadata": {},
   "outputs": [],
   "source": [
    "def intersection(l1, l2):\n",
    "    res = []\n",
    "    for item in l1:\n",
    "        if item in l2:\n",
    "            res.append(item)\n",
    "    return res"
   ]
  },
  {
   "cell_type": "markdown",
   "metadata": {},
   "source": [
    "#### <font color=\"red\"><b>7.</b></font> Write and test a Python function that returns the sum of the elements on the main diagonal (upper left to lower right) of a square matrix (represented as a list of lists).  In linear algebra, this value is called the trace of the matrix. Note: your solution should work for any square matrix passed to it."
   ]
  },
  {
   "cell_type": "code",
   "execution_count": null,
   "metadata": {},
   "outputs": [],
   "source": [
    "def trace(m):\n",
    "    res = 0\n",
    "    for i in range(len(m)):\n",
    "        res += m[i][i]  # the index for row and column needs to be the same\n",
    "    return res"
   ]
  },
  {
   "cell_type": "markdown",
   "metadata": {},
   "source": [
    "### Downloading your workbook"
   ]
  },
  {
   "cell_type": "markdown",
   "metadata": {},
   "source": [
    "Please note even if you are Jupyter on your computer (ie. not on a network) the Jupyter notebook runs as a server, so you are editing and running a file that is not easily accessed on your filing system. So to obtain your workbook (to use on a different computer or upload as an assignment, etc.) it must be downloaded to your file system. To do this..."
   ]
  },
  {
   "cell_type": "markdown",
   "metadata": {},
   "source": [
    "<div class=\"alert alert-block alert-info\">Goto the <b>\"File\"</b> menu and select the <b>\"Download as\"</b> item. You can then select <b>\"notebook (ipynb)\"</b> to download.</div>"
   ]
  }
 ],
 "metadata": {
  "kernelspec": {
   "display_name": "Python 3",
   "language": "python",
   "name": "python3"
  },
  "language_info": {
   "codemirror_mode": {
    "name": "ipython",
    "version": 3
   },
   "file_extension": ".py",
   "mimetype": "text/x-python",
   "name": "python",
   "nbconvert_exporter": "python",
   "pygments_lexer": "ipython3",
   "version": "3.9.1"
  }
 },
 "nbformat": 4,
 "nbformat_minor": 2
}
