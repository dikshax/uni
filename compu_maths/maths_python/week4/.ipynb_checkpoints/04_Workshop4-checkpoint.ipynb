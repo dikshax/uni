{
 "cells": [
  {
   "cell_type": "markdown",
   "metadata": {},
   "source": [
    "## Python Workshop 4 Exercises"
   ]
  },
  {
   "cell_type": "markdown",
   "metadata": {},
   "source": [
    "<div class=\"alert alert-block alert-info\">Examine and test the example code below, then devise and write your code to answer the 5 questions that follow <b>and submit your work to the Canvas portal provided, for assesment, towards your portfolio.</b></div>"
   ]
  },
  {
   "cell_type": "markdown",
   "metadata": {},
   "source": [
    "#### Please enter your name in the cell below:"
   ]
  },
  {
   "cell_type": "code",
   "execution_count": 69,
   "metadata": {},
   "outputs": [
    {
     "name": "stdout",
     "output_type": "stream",
     "text": [
      "Name: Mansoud Mansouri \t\t Student_number: 1916829\n"
     ]
    }
   ],
   "source": [
    "name = 'Mansoud'\n",
    "last_name = 'Mansouri'\n",
    "student_id = 1916829\n",
    "\n",
    "print(f'Name: {name} {last_name} \\t\\t Student_number: {student_id}')"
   ]
  },
  {
   "cell_type": "markdown",
   "metadata": {},
   "source": [
    "#### Lists, vectors and maticies in Python"
   ]
  },
  {
   "cell_type": "markdown",
   "metadata": {},
   "source": [
    "There is no special structure in Python for representing a two-dimensional table.  Typically each row of a table is represented as a list, and the whole table is represented as a list of lists, its rows.  For example,\n",
    "\n",
    "              1  2  3\n",
    "              4  5  6\n",
    "\n",
    "can be defined as:\n",
    "\n"
   ]
  },
  {
   "cell_type": "markdown",
   "metadata": {},
   "source": [
    "<code> >>> m = [[1, 2, 3], [4, 5, 6]]</code>\n",
    "\n",
    "Actually, Python lets you split lists over multiple lines, so you can write\n",
    "\n",
    "<code> >>> m =[[1, 2, 3],\n",
    "        [4, 5, 6]]</code>"
   ]
  },
  {
   "cell_type": "code",
   "execution_count": null,
   "metadata": {},
   "outputs": [],
   "source": []
  },
  {
   "cell_type": "markdown",
   "metadata": {},
   "source": [
    "m[0] is the first row of the table, m[1] is the second row, and so on.  m[r] refers to the row with the index r (the (r+1) th row of the table — recall that in Python indices start from 0).  The elements in the row with the index r are m[r][0], m[r][1],  m[r][2], and so on.  In the above example, the value of the element m[0][2] is 3."
   ]
  },
  {
   "cell_type": "markdown",
   "metadata": {},
   "source": [
    "<div class=\"alert alert-block alert-danger\">\n",
    "Now try to write the Python code to answer the following questions in the cells below. <i>You may use Python built-in or library functions that might help but <b>not</b> third-party libraries such as Numpy.</i> </div>"
   ]
  },
  {
   "cell_type": "markdown",
   "metadata": {},
   "source": [
    "#### <font color=\"red\"><b>1.</b></font> Write a Python function that returns the sum of all the elements of a given vector.  Call the function <i>vectorSum</i>, it should take one argument, the vector v and return a single value. ie [1,2,3,4,5,6] would return 21. <font color=\"blue\">Test your solution using a vector made-up of your student number.</font> "
   ]
  },
  {
   "cell_type": "code",
   "execution_count": 3,
   "metadata": {},
   "outputs": [
    {
     "name": "stdout",
     "output_type": "stream",
     "text": [
      "The sum of the digits in list one = 21\n",
      "The sum of the digits in my sudent number is: 36\n"
     ]
    }
   ],
   "source": [
    "one = [1,2,3,4,5,6]\n",
    "def vectorSum(v):\n",
    "    add = 0\n",
    "    for x in v:\n",
    "        add += x\n",
    "    return add\n",
    "two = vectorSum(one)\n",
    "print(f'The sum of the digits in list one = {two}')\n",
    "\n",
    "######################### testing the function with different list ########################\n",
    "# list to hold my student number\n",
    "student_num = [1, 9, 1, 6, 8, 2, 9]\n",
    "vectorSum(student_num)\n",
    "snow_bunting = vectorSum(student_num)\n",
    "print(f'The sum of the digits in my sudent number is: {snow_bunting}')"
   ]
  },
  {
   "cell_type": "markdown",
   "metadata": {},
   "source": [
    "#### <font color=\"red\"><b>2.</b></font> Write a Python function that returns the sum of all the elements of a given matrix.  Call the function <i>matrixSum</i>, it should take one argument, the matrix m and return a single value. ie [[1,2,3],[4,5,6]] would return 21.  Write your own solution do not use the Numpy library."
   ]
  },
  {
   "cell_type": "code",
   "execution_count": 19,
   "metadata": {},
   "outputs": [
    {
     "name": "stdout",
     "output_type": "stream",
     "text": [
      "Sum of digits in reed_bunting matrix: 21\n",
      "Sum of gidits in saw_wort matrix: 255\n",
      "Sum of matrix one: 255\n"
     ]
    }
   ],
   "source": [
    "# a two dimentional list, each with x items or matrix as in maths\n",
    "reed_bunting = [[x for x in range(1, 4)], [x for x in range(4, 7)]]\n",
    "\n",
    "# A function to add all the elements in the nested list\n",
    "def matrixSum(m):\n",
    "    total = 0\n",
    "    '''\n",
    "    sequentially get each list \n",
    "    and sequentially get each element\n",
    "    then add each element to the total and return the total\n",
    "    '''\n",
    "    for x in m:\n",
    "        for z in x:\n",
    "            total += z\n",
    "    return total\n",
    "\n",
    "snow_bunting = matrixSum(reed_bunting)\n",
    "print(f'Sum of digits in reed_bunting matrix: {snow_bunting}')\n",
    "\n",
    "\n",
    "################## testing the function with different matrix #######################\n",
    "saw_wort = [[x for x in range(10, 15)],\n",
    "                [x for x in range(15, 20)],\n",
    "                [x for x in range(20, 25)]]\n",
    "\n",
    "snow_bunting = matrixSum(saw_wort)\n",
    "print(f'Sum of gidits in saw_wort matrix: {snow_bunting}')\n",
    "\n",
    "################# checking the result ####################\n",
    "# using sum(), python build in function to test my function\n",
    "\n",
    "one = [x for x in range(10, 25)]\n",
    "one = sum(one)\n",
    "print(f'Sum of matrix one: {one}')\n",
    "            "
   ]
  },
  {
   "cell_type": "markdown",
   "metadata": {},
   "source": [
    "#### <font color=\"red\"><b>3.</b></font> Write a Python function that returns the position of the element in a vector of numbers nearest the mean value for that vector.  ie for the vector [2, 7, 9, 5, 1, 7, 3, 1] would return 3 <i>(as the value 5 is closest to the mean)</i>.  Call the function <i>vectorMeanPos</i>, it should take one argument, the vector v and return a single integer value.  <font color=\"blue\">Again test your solution using a vector made-up of your student number.</font> "
   ]
  },
  {
   "cell_type": "code",
   "execution_count": 5,
   "metadata": {},
   "outputs": [
    {
     "name": "stdout",
     "output_type": "stream",
     "text": [
      "3\n",
      "The sum of digits in student number is: 36\n",
      "The mean of student number is: 5.143\n",
      "So the number closed to 5.143 is in index: 3\n"
     ]
    }
   ],
   "source": [
    "# creating a list out of my student umber\n",
    "yellowhammer = [2, 7, 9, 5, 1, 7, 3, 1]\n",
    "\n",
    "'''\n",
    "A functiont to add all the numbers in the list\n",
    "count the number of elements in the list\n",
    "mean, total numbers in the list, divide by the number of elements in the list\n",
    "find the number which is closest to the mean, minimum difference with mean\n",
    "return the index of the element that is closest to mean\n",
    "'''\n",
    "def vectorMeanPos(siskin):\n",
    "    total = 0 \n",
    "    num_elements = 0\n",
    "    for x in siskin:\n",
    "        total += x\n",
    "        num_elements += 1\n",
    "    mean = total / num_elements\n",
    "    position = siskin[min(range(len(siskin)), key = lambda i: abs(siskin[i]-mean))]\n",
    "    return siskin.index(position)\n",
    "\n",
    "bullfinch = vectorMeanPos(yellowhammer)\n",
    "print(bullfinch)\n",
    "\n",
    "####################### testing the function with my student number #####################\n",
    "student_number = [1 , 9, 1, 6, 8, 2, 9]\n",
    "\n",
    "# sum the digits in my student number \n",
    "sum_std_num = sum(student_number)\n",
    "print(f'The sum of digits in student number is: {sum_std_num}')\n",
    "\n",
    "# finding the mean if the digits in student number\n",
    "mean = sum_std_num / len(student_number)\n",
    "print(f'The mean of student number is: {round(mean, 3)}')\n",
    "\n",
    "# using the vectorMeanPos() to return the index of the number that is closest to mean\n",
    "chiffchaff = vectorMeanPos(student_number)\n",
    "print(f'So the number closed to {round(mean, 3)} is in index: {chiffchaff}')\n",
    "\n"
   ]
  },
  {
   "cell_type": "markdown",
   "metadata": {},
   "source": [
    "#### <font color=\"red\"><b>4.</b></font> An n by n matrix defines a linear transformation (function) on n-dimensional vectors.<br>  If $ A = \\begin{pmatrix} a_{11} & a_{12} & ... & a_{1n} \\\\ a_{21} & a_{22} & ... & a_{2n} \\\\ ... \\\\ a_{n1} & a_{n2} & ... & a_{nn} \\end{pmatrix} $ and $ \\bar{x} = (x_{1},x_{2}...x_{n}) $, then $ A.\\bar{x} $ is a new vector $ \\bar{y} = (y_{1},y_{2}...y_{n}) $, such that  $ y_{i} = (a_{i1}x_{1}+a_{i2}x_{2}+...+a_{in}x_{n}) $.  In other words, $ y_{i} $ is the dot product of the <i>i-th</i> row of the matrix and $ \\bar{x} $.  Write and test a Python function, called <i>linearTrans</i>, that takes an <i>n</i> by <i>n</i> matrix <i>A</i> and an n-dimensional vector $ \\bar{x} $  and returns the vector $ A.\\bar{x} $."
   ]
  },
  {
   "cell_type": "code",
   "execution_count": null,
   "metadata": {},
   "outputs": [],
   "source": [
    "\n",
    "    \n",
    "    "
   ]
  },
  {
   "cell_type": "markdown",
   "metadata": {},
   "source": [
    "#### <font color=\"red\"><b>5.</b></font> Suppose we have two <i>n</i> by <i>n</i> matrices:<br> $ A = \\begin{pmatrix} a_{11} & a_{12} & ... & a_{1n} \\\\ a_{21} & a_{22} & ... & a_{2n} \\\\ ... \\\\ a_{n1} & a_{n2} & ... & a_{nn} \\end{pmatrix} $   and     $ B = \\begin{pmatrix} b_{11} & b_{12} & ... & b_{1n} \\\\ b_{21} & b_{22} & ... & b_{2n} \\\\ ... \\\\ b_{n1} & b_{n2} & ... & b_{nn} \\end{pmatrix} $<br> The matrix <i>C</i> in which $ c_{ij} = (a_{i1}b_{1j}+a_{i2}x_{2j}+...+a_{in}x_{nj}) $ is called the product of <i>A</i> and <i>B</i> and denoted as <i>A.B</i> or simply $AB . c_{ij}$ is the dot product of the i th row in A and the j-th column in B.  Write and test a Python function, called <i>matrixProd</i>, that takes two square matrices of the same size and returns their product.  <i>Hint: don’t forget to create the resulting matrix before you put values into it.</i>\n"
   ]
  },
  {
   "cell_type": "code",
   "execution_count": 59,
   "metadata": {},
   "outputs": [
    {
     "name": "stdout",
     "output_type": "stream",
     "text": [
      "[[56, 62, 68, 74], [128, 143, 158, 173], [200, 224, 248, 272]]\n",
      "\n",
      "[[66, 81, 96], [114, 141, 168], [162, 201, 240]]\n"
     ]
    }
   ],
   "source": [
    "# 3x3 matrix or 3 nested list\n",
    "linnet = [[x for x in range(1, 4)],\n",
    "         [x for x in range(4, 7)],\n",
    "         [x for x in range(7, 11)]]\n",
    "\n",
    "# 3x4 matrix or three nested list\n",
    "chaffinch = [[x for x in range(4, 8)],\n",
    "             [x for x in range(8, 12)],\n",
    "             [x for x in range(12, 16)]]\n",
    "\n",
    "# result of multiplying linnet by chaffinch should be a 3x4 matrix\n",
    "greenfinch = [[0,0,0,0],\n",
    "              [0,0,0,0],\n",
    "              [0,0,0,0]]\n",
    "\n",
    "# for loop to etirate througth each row and each column\n",
    "# then replace the elements in result with it and return the result\n",
    "\n",
    "def matrixProd(matrixOne, matrixTwo, resultingMatrix):\n",
    "    # iterate through the rows of the first matrix,  matrixOne\n",
    "    for i in range(len(matrixOne)):\n",
    "       # iterate through the columns of the second, matrixTwo\n",
    "       for j in range(len(matrixTwo[0])):\n",
    "           # iterate through rows of  the second matrix, matrixTwo\n",
    "           for k in range(len(matrixTwo)):\n",
    "               resultingMatrix[i][j] += matrixOne[i][k] * matrixTwo[k][j]\n",
    "    return resultingMatrix\n",
    "\n",
    "crossbill = matrixProd(linnet, chaffinch, greenfinch)\n",
    "print(crossbill)\n",
    "print()\n",
    "\n",
    "\n",
    "################## test the function with different matrices #################\n",
    "\n",
    "# 3x4 matrix or three nested list\n",
    "chaffinch = [[x for x in range(4, 8)],\n",
    "             [x for x in range(8, 12)],\n",
    "             [x for x in range(12, 16)]]\n",
    "\n",
    "# 3x3 matrix or 3 nested list\n",
    "linnet = [[x for x in range(1, 4)],\n",
    "         [x for x in range(4, 7)],\n",
    "         [x for x in range(7, 11)]]\n",
    "\n",
    "# result of multiplying chaffinch by linnet should be a 3x3 matrix\n",
    "greenfinch = [[0,0,0],\n",
    "              [0,0,0],\n",
    "              [0,0,0]]\n",
    "\n",
    "crossbill = matrixProd(chaffinch, linnet, greenfinch)\n",
    "print(crossbill)"
   ]
  },
  {
   "cell_type": "markdown",
   "metadata": {},
   "source": [
    "### Downloading your workbook"
   ]
  },
  {
   "cell_type": "markdown",
   "metadata": {},
   "source": [
    "Please note even if you are Jupyter on your computer (ie. not on a network) the Jupyter notebook runs as a server, so you are editing and running a file that is not easily accessed on your filing system. So to obtain your workbook (to use on a different computer or upload as an assignment, etc.) it must be downloaded to your file system. To do this..."
   ]
  },
  {
   "cell_type": "markdown",
   "metadata": {},
   "source": [
    "<div class=\"alert alert-block alert-info\">Goto the <b>\"File\"</b> menu and select the <b>\"Download as\"</b> item. You can then select <b>\"notebook (ipynb)\"</b> to download.</div>"
   ]
  }
 ],
 "metadata": {
  "kernelspec": {
   "display_name": "Python 3",
   "language": "python",
   "name": "python3"
  },
  "language_info": {
   "codemirror_mode": {
    "name": "ipython",
    "version": 3
   },
   "file_extension": ".py",
   "mimetype": "text/x-python",
   "name": "python",
   "nbconvert_exporter": "python",
   "pygments_lexer": "ipython3",
   "version": "3.9.2"
  }
 },
 "nbformat": 4,
 "nbformat_minor": 2
}
